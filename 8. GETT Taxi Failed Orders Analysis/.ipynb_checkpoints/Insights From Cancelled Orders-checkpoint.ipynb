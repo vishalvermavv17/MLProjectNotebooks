{
 "cells": [
  {
   "cell_type": "markdown",
   "id": "3355b628",
   "metadata": {},
   "source": [
    "<h1 align='center'> Data Project from Gett - Analysis of Cancelled Orders <h1>"
   ]
  },
  {
   "attachments": {
    "download.png": {
     "image/png": "[encoded data removed]"
    }
   },
   "cell_type": "markdown",
   "id": "509999e3",
   "metadata": {},
   "source": [
    "![download.png](attachment:download.png)"
   ]
  },
  {
   "cell_type": "markdown",
   "id": "c102fafd",
   "metadata": {},
   "source": [
    "Gett, previously known as GetTaxi, is an Israeli-developed technology platform solely focused on corporate Ground Transportation Management (GTM). They have an application where clients can order taxis, and drivers can accept their rides (offers). At the moment, when the client clicks the Order button in the application, the matching system searches for the most relevant drivers and offers them the order. In this task, we would like to investigate some matching metrics for orders that did not completed successfully, i.e., the customer didn't end up getting a car."
   ]
  },
  {
   "cell_type": "markdown",
   "id": "766c5fb6",
   "metadata": {},
   "source": [
    "## Packages "
   ]
  },
  {
   "cell_type": "code",
   "execution_count": 4,
   "id": "1ca3b9e9",
   "metadata": {},
   "outputs": [],
   "source": [
    "import pandas as pd\n",
    "import numpy as np\n",
    "import seaborn as sns\n",
    "import datetime\n",
    "import matplotlib.pyplot as plt"
   ]
  },
  {
   "cell_type": "markdown",
   "id": "81c3aec2",
   "metadata": {},
   "source": [
    "## Data"
   ]
  },
  {
   "cell_type": "code",
   "execution_count": 5,
   "id": "8ebfac30",
   "metadata": {},
   "outputs": [],
   "source": [
    "df_orders = pd.read_csv(\"./datasets/data_orders.csv\")\n",
    "df_offers = pd.read_csv(\"./datasets/data_offers.csv\")\n",
    "df = df_orders.merge(df_offers, how='inner', on='order_gk')"
   ]
  },
  {
   "cell_type": "markdown",
   "id": "c08f2cdb",
   "metadata": {},
   "source": [
    "## Data Dictionary\n",
    "\n",
    "We have two data sets: data_orders and data_offers, both being stored in a CSV format. \n",
    "\n",
    "The data_orders data set contains the following columns:\n",
    "\n",
    "- order_datetime - time of the order\n",
    "- origin_longitude - longitude of the order\n",
    "- origin_latitude - latitude of the order\n",
    "- m_order_eta - time before order arrival\n",
    "- order_gk - order number\n",
    "- order_status_key - status, an enumeration consisting of the following mapping:\n",
    "    - 4 - cancelled by client,\n",
    "    - 9 - cancelled by system, i.e., a reject\n",
    "- is_driver_assigned_key - whether a driver has been assigned\n",
    "- cancellation_time_in_seconds - how many seconds passed before cancellation\n",
    "\n",
    "The data_offers data set is a simple map with 2 columns:\n",
    "\n",
    "- order_gk - order number, associated with the same column from the orders data set\n",
    "- offer_id - ID of an offer"
   ]
  },
  {
   "cell_type": "markdown",
   "id": "25ae9949",
   "metadata": {},
   "source": [
    "## Understanding Data"
   ]
  },
  {
   "cell_type": "code",
   "execution_count": 6,
   "id": "0cf628ef",
   "metadata": {},
   "outputs": [
    {
     "name": "stdout",
     "output_type": "stream",
     "text": [
      "Size of orders datasest: (10716, 8)\n",
      "Size of offers datasest: (334363, 2)\n"
     ]
    }
   ],
   "source": [
    "print(\"Size of orders datasest: {}\".format(df_orders.shape))\n",
    "print(\"Size of offers datasest: {}\".format(df_offers.shape))"
   ]
  },
  {
   "cell_type": "code",
   "execution_count": 7,
   "id": "fb9059da",
   "metadata": {},
   "outputs": [
    {
     "data": {
      "text/html": [
       "<div>\n",
       "<style scoped>\n",
       "    .dataframe tbody tr th:only-of-type {\n",
       "        vertical-align: middle;\n",
       "    }\n",
       "\n",
       "    .dataframe tbody tr th {\n",
       "        vertical-align: top;\n",
       "    }\n",
       "\n",
       "    .dataframe thead th {\n",
       "        text-align: right;\n",
       "    }\n",
       "</style>\n",
       "<table border=\"1\" class=\"dataframe\">\n",
       "  <thead>\n",
       "    <tr style=\"text-align: right;\">\n",
       "      <th></th>\n",
       "      <th>order_datetime</th>\n",
       "      <th>origin_longitude</th>\n",
       "      <th>origin_latitude</th>\n",
       "      <th>m_order_eta</th>\n",
       "      <th>order_gk</th>\n",
       "      <th>order_status_key</th>\n",
       "      <th>is_driver_assigned_key</th>\n",
       "      <th>cancellations_time_in_seconds</th>\n",
       "    </tr>\n",
       "  </thead>\n",
       "  <tbody>\n",
       "    <tr>\n",
       "      <th>0</th>\n",
       "      <td>18:08:07</td>\n",
       "      <td>-0.978916</td>\n",
       "      <td>51.456173</td>\n",
       "      <td>60.0</td>\n",
       "      <td>3000583041974</td>\n",
       "      <td>4</td>\n",
       "      <td>1</td>\n",
       "      <td>198.0</td>\n",
       "    </tr>\n",
       "    <tr>\n",
       "      <th>1</th>\n",
       "      <td>20:57:32</td>\n",
       "      <td>-0.950385</td>\n",
       "      <td>51.456843</td>\n",
       "      <td>NaN</td>\n",
       "      <td>3000583116437</td>\n",
       "      <td>4</td>\n",
       "      <td>0</td>\n",
       "      <td>128.0</td>\n",
       "    </tr>\n",
       "    <tr>\n",
       "      <th>2</th>\n",
       "      <td>12:07:50</td>\n",
       "      <td>-0.969520</td>\n",
       "      <td>51.455544</td>\n",
       "      <td>477.0</td>\n",
       "      <td>3000582891479</td>\n",
       "      <td>4</td>\n",
       "      <td>1</td>\n",
       "      <td>46.0</td>\n",
       "    </tr>\n",
       "    <tr>\n",
       "      <th>3</th>\n",
       "      <td>13:50:20</td>\n",
       "      <td>-1.054671</td>\n",
       "      <td>51.460544</td>\n",
       "      <td>658.0</td>\n",
       "      <td>3000582941169</td>\n",
       "      <td>4</td>\n",
       "      <td>1</td>\n",
       "      <td>62.0</td>\n",
       "    </tr>\n",
       "    <tr>\n",
       "      <th>4</th>\n",
       "      <td>21:24:45</td>\n",
       "      <td>-0.967605</td>\n",
       "      <td>51.458236</td>\n",
       "      <td>NaN</td>\n",
       "      <td>3000583140877</td>\n",
       "      <td>9</td>\n",
       "      <td>0</td>\n",
       "      <td>NaN</td>\n",
       "    </tr>\n",
       "  </tbody>\n",
       "</table>\n",
       "</div>"
      ],
      "text/plain": [
       "  order_datetime  origin_longitude  origin_latitude  m_order_eta  \\\n",
       "0       18:08:07         -0.978916        51.456173         60.0   \n",
       "1       20:57:32         -0.950385        51.456843          NaN   \n",
       "2       12:07:50         -0.969520        51.455544        477.0   \n",
       "3       13:50:20         -1.054671        51.460544        658.0   \n",
       "4       21:24:45         -0.967605        51.458236          NaN   \n",
       "\n",
       "        order_gk  order_status_key  is_driver_assigned_key  \\\n",
       "0  3000583041974                 4                       1   \n",
       "1  3000583116437                 4                       0   \n",
       "2  3000582891479                 4                       1   \n",
       "3  3000582941169                 4                       1   \n",
       "4  3000583140877                 9                       0   \n",
       "\n",
       "   cancellations_time_in_seconds  \n",
       "0                          198.0  \n",
       "1                          128.0  \n",
       "2                           46.0  \n",
       "3                           62.0  \n",
       "4                            NaN  "
      ]
     },
     "execution_count": 7,
     "metadata": {},
     "output_type": "execute_result"
    }
   ],
   "source": [
    "df_orders.head()"
   ]
  },
  {
   "cell_type": "code",
   "execution_count": 8,
   "id": "71fba649",
   "metadata": {},
   "outputs": [
    {
     "data": {
      "text/html": [
       "<div>\n",
       "<style scoped>\n",
       "    .dataframe tbody tr th:only-of-type {\n",
       "        vertical-align: middle;\n",
       "    }\n",
       "\n",
       "    .dataframe tbody tr th {\n",
       "        vertical-align: top;\n",
       "    }\n",
       "\n",
       "    .dataframe thead th {\n",
       "        text-align: right;\n",
       "    }\n",
       "</style>\n",
       "<table border=\"1\" class=\"dataframe\">\n",
       "  <thead>\n",
       "    <tr style=\"text-align: right;\">\n",
       "      <th></th>\n",
       "      <th>order_gk</th>\n",
       "      <th>offer_id</th>\n",
       "    </tr>\n",
       "  </thead>\n",
       "  <tbody>\n",
       "    <tr>\n",
       "      <th>0</th>\n",
       "      <td>3000579625629</td>\n",
       "      <td>300050936206</td>\n",
       "    </tr>\n",
       "    <tr>\n",
       "      <th>1</th>\n",
       "      <td>3000627306450</td>\n",
       "      <td>300052064651</td>\n",
       "    </tr>\n",
       "    <tr>\n",
       "      <th>2</th>\n",
       "      <td>3000632920686</td>\n",
       "      <td>300052408812</td>\n",
       "    </tr>\n",
       "    <tr>\n",
       "      <th>3</th>\n",
       "      <td>3000632771725</td>\n",
       "      <td>300052393030</td>\n",
       "    </tr>\n",
       "    <tr>\n",
       "      <th>4</th>\n",
       "      <td>3000583467642</td>\n",
       "      <td>300051001196</td>\n",
       "    </tr>\n",
       "  </tbody>\n",
       "</table>\n",
       "</div>"
      ],
      "text/plain": [
       "        order_gk      offer_id\n",
       "0  3000579625629  300050936206\n",
       "1  3000627306450  300052064651\n",
       "2  3000632920686  300052408812\n",
       "3  3000632771725  300052393030\n",
       "4  3000583467642  300051001196"
      ]
     },
     "execution_count": 8,
     "metadata": {},
     "output_type": "execute_result"
    }
   ],
   "source": [
    "df_offers.head()"
   ]
  },
  {
   "cell_type": "code",
   "execution_count": 9,
   "id": "08e1264f",
   "metadata": {},
   "outputs": [
    {
     "data": {
      "text/html": [
       "<div>\n",
       "<style scoped>\n",
       "    .dataframe tbody tr th:only-of-type {\n",
       "        vertical-align: middle;\n",
       "    }\n",
       "\n",
       "    .dataframe tbody tr th {\n",
       "        vertical-align: top;\n",
       "    }\n",
       "\n",
       "    .dataframe thead th {\n",
       "        text-align: right;\n",
       "    }\n",
       "</style>\n",
       "<table border=\"1\" class=\"dataframe\">\n",
       "  <thead>\n",
       "    <tr style=\"text-align: right;\">\n",
       "      <th></th>\n",
       "      <th>order_datetime</th>\n",
       "      <th>origin_longitude</th>\n",
       "      <th>origin_latitude</th>\n",
       "      <th>m_order_eta</th>\n",
       "      <th>order_gk</th>\n",
       "      <th>order_status_key</th>\n",
       "      <th>is_driver_assigned_key</th>\n",
       "      <th>cancellations_time_in_seconds</th>\n",
       "      <th>offer_id</th>\n",
       "    </tr>\n",
       "  </thead>\n",
       "  <tbody>\n",
       "    <tr>\n",
       "      <th>0</th>\n",
       "      <td>18:08:07</td>\n",
       "      <td>-0.978916</td>\n",
       "      <td>51.456173</td>\n",
       "      <td>60.0</td>\n",
       "      <td>3000583041974</td>\n",
       "      <td>4</td>\n",
       "      <td>1</td>\n",
       "      <td>198.0</td>\n",
       "      <td>300050983403</td>\n",
       "    </tr>\n",
       "    <tr>\n",
       "      <th>1</th>\n",
       "      <td>20:57:32</td>\n",
       "      <td>-0.950385</td>\n",
       "      <td>51.456843</td>\n",
       "      <td>NaN</td>\n",
       "      <td>3000583116437</td>\n",
       "      <td>4</td>\n",
       "      <td>0</td>\n",
       "      <td>128.0</td>\n",
       "      <td>300050986179</td>\n",
       "    </tr>\n",
       "    <tr>\n",
       "      <th>2</th>\n",
       "      <td>20:57:32</td>\n",
       "      <td>-0.950385</td>\n",
       "      <td>51.456843</td>\n",
       "      <td>NaN</td>\n",
       "      <td>3000583116437</td>\n",
       "      <td>4</td>\n",
       "      <td>0</td>\n",
       "      <td>128.0</td>\n",
       "      <td>300050986174</td>\n",
       "    </tr>\n",
       "    <tr>\n",
       "      <th>3</th>\n",
       "      <td>20:57:32</td>\n",
       "      <td>-0.950385</td>\n",
       "      <td>51.456843</td>\n",
       "      <td>NaN</td>\n",
       "      <td>3000583116437</td>\n",
       "      <td>4</td>\n",
       "      <td>0</td>\n",
       "      <td>128.0</td>\n",
       "      <td>300050986180</td>\n",
       "    </tr>\n",
       "    <tr>\n",
       "      <th>4</th>\n",
       "      <td>12:07:50</td>\n",
       "      <td>-0.969520</td>\n",
       "      <td>51.455544</td>\n",
       "      <td>477.0</td>\n",
       "      <td>3000582891479</td>\n",
       "      <td>4</td>\n",
       "      <td>1</td>\n",
       "      <td>46.0</td>\n",
       "      <td>300050976275</td>\n",
       "    </tr>\n",
       "  </tbody>\n",
       "</table>\n",
       "</div>"
      ],
      "text/plain": [
       "  order_datetime  origin_longitude  origin_latitude  m_order_eta  \\\n",
       "0       18:08:07         -0.978916        51.456173         60.0   \n",
       "1       20:57:32         -0.950385        51.456843          NaN   \n",
       "2       20:57:32         -0.950385        51.456843          NaN   \n",
       "3       20:57:32         -0.950385        51.456843          NaN   \n",
       "4       12:07:50         -0.969520        51.455544        477.0   \n",
       "\n",
       "        order_gk  order_status_key  is_driver_assigned_key  \\\n",
       "0  3000583041974                 4                       1   \n",
       "1  3000583116437                 4                       0   \n",
       "2  3000583116437                 4                       0   \n",
       "3  3000583116437                 4                       0   \n",
       "4  3000582891479                 4                       1   \n",
       "\n",
       "   cancellations_time_in_seconds      offer_id  \n",
       "0                          198.0  300050983403  \n",
       "1                          128.0  300050986179  \n",
       "2                          128.0  300050986174  \n",
       "3                          128.0  300050986180  \n",
       "4                           46.0  300050976275  "
      ]
     },
     "execution_count": 9,
     "metadata": {},
     "output_type": "execute_result"
    }
   ],
   "source": [
    "df.head()"
   ]
  },
  {
   "cell_type": "markdown",
   "id": "29ca352d",
   "metadata": {},
   "source": [
    "## Cancellations before and after driver assignment"
   ]
  },
  {
   "cell_type": "code",
   "execution_count": 10,
   "id": "d625eb90",
   "metadata": {},
   "outputs": [
    {
     "data": {
      "text/plain": [
       "<AxesSubplot:xlabel='is_driver_assigned_key', ylabel='count'>"
      ]
     },
     "execution_count": 10,
     "metadata": {},
     "output_type": "execute_result"
    },
    {
     "data": {
      "image/png": "[encoded data removed]",
      "text/plain": [
       "<Figure size 432x288 with 1 Axes>"
      ]
     },
     "metadata": {
      "needs_background": "light"
     },
     "output_type": "display_data"
    }
   ],
   "source": [
    "sns.countplot(data=df, x='is_driver_assigned_key')"
   ]
  },
  {
   "cell_type": "markdown",
   "id": "868fea3c",
   "metadata": {},
   "source": [
    "Above countplot shows that orders with no driver assigned has higher chances (3:1) of being cancelled than orders with drivers assigned.\n",
    "It makes sense, because of the following situations in the case of order with no drivers assigned:\n",
    "1. There are may be some locations, which is least preferred by drivers.\n",
    "2. There can be some locations which have low volume of drivers.\n",
    "3. There can be a possibility, majority of orders gets cancelled during peak time when there are less availability of drivers.\n",
    "4. There can be specific type of orders, which didn't preferred by drivers."
   ]
  },
  {
   "cell_type": "code",
   "execution_count": 11,
   "id": "a5ddffef",
   "metadata": {},
   "outputs": [
    {
     "data": {
      "text/plain": [
       "is_driver_assigned_key\n",
       "0    22904\n",
       "1     8364\n",
       "dtype: int64"
      ]
     },
     "execution_count": 11,
     "metadata": {},
     "output_type": "execute_result"
    }
   ],
   "source": [
    "df.groupby('is_driver_assigned_key').size()"
   ]
  },
  {
   "cell_type": "markdown",
   "id": "d7ec519b",
   "metadata": {},
   "source": [
    "## Distribution of failed orders by hours"
   ]
  },
  {
   "cell_type": "code",
   "execution_count": 12,
   "id": "cc9ccee6",
   "metadata": {},
   "outputs": [],
   "source": [
    "df['hr_of_day'] = pd.to_datetime(df.order_datetime).dt.hour"
   ]
  },
  {
   "cell_type": "code",
   "execution_count": 13,
   "id": "36a3c142",
   "metadata": {},
   "outputs": [
    {
     "data": {
      "text/html": [
       "<div>\n",
       "<style scoped>\n",
       "    .dataframe tbody tr th:only-of-type {\n",
       "        vertical-align: middle;\n",
       "    }\n",
       "\n",
       "    .dataframe tbody tr th {\n",
       "        vertical-align: top;\n",
       "    }\n",
       "\n",
       "    .dataframe thead th {\n",
       "        text-align: right;\n",
       "    }\n",
       "</style>\n",
       "<table border=\"1\" class=\"dataframe\">\n",
       "  <thead>\n",
       "    <tr style=\"text-align: right;\">\n",
       "      <th></th>\n",
       "      <th>order_datetime</th>\n",
       "      <th>origin_longitude</th>\n",
       "      <th>origin_latitude</th>\n",
       "      <th>m_order_eta</th>\n",
       "      <th>order_gk</th>\n",
       "      <th>order_status_key</th>\n",
       "      <th>is_driver_assigned_key</th>\n",
       "      <th>cancellations_time_in_seconds</th>\n",
       "      <th>offer_id</th>\n",
       "      <th>hr_of_day</th>\n",
       "    </tr>\n",
       "  </thead>\n",
       "  <tbody>\n",
       "    <tr>\n",
       "      <th>0</th>\n",
       "      <td>18:08:07</td>\n",
       "      <td>-0.978916</td>\n",
       "      <td>51.456173</td>\n",
       "      <td>60.0</td>\n",
       "      <td>3000583041974</td>\n",
       "      <td>4</td>\n",
       "      <td>1</td>\n",
       "      <td>198.0</td>\n",
       "      <td>300050983403</td>\n",
       "      <td>18</td>\n",
       "    </tr>\n",
       "    <tr>\n",
       "      <th>1</th>\n",
       "      <td>20:57:32</td>\n",
       "      <td>-0.950385</td>\n",
       "      <td>51.456843</td>\n",
       "      <td>NaN</td>\n",
       "      <td>3000583116437</td>\n",
       "      <td>4</td>\n",
       "      <td>0</td>\n",
       "      <td>128.0</td>\n",
       "      <td>300050986179</td>\n",
       "      <td>20</td>\n",
       "    </tr>\n",
       "    <tr>\n",
       "      <th>2</th>\n",
       "      <td>20:57:32</td>\n",
       "      <td>-0.950385</td>\n",
       "      <td>51.456843</td>\n",
       "      <td>NaN</td>\n",
       "      <td>3000583116437</td>\n",
       "      <td>4</td>\n",
       "      <td>0</td>\n",
       "      <td>128.0</td>\n",
       "      <td>300050986174</td>\n",
       "      <td>20</td>\n",
       "    </tr>\n",
       "    <tr>\n",
       "      <th>3</th>\n",
       "      <td>20:57:32</td>\n",
       "      <td>-0.950385</td>\n",
       "      <td>51.456843</td>\n",
       "      <td>NaN</td>\n",
       "      <td>3000583116437</td>\n",
       "      <td>4</td>\n",
       "      <td>0</td>\n",
       "      <td>128.0</td>\n",
       "      <td>300050986180</td>\n",
       "      <td>20</td>\n",
       "    </tr>\n",
       "    <tr>\n",
       "      <th>4</th>\n",
       "      <td>12:07:50</td>\n",
       "      <td>-0.969520</td>\n",
       "      <td>51.455544</td>\n",
       "      <td>477.0</td>\n",
       "      <td>3000582891479</td>\n",
       "      <td>4</td>\n",
       "      <td>1</td>\n",
       "      <td>46.0</td>\n",
       "      <td>300050976275</td>\n",
       "      <td>12</td>\n",
       "    </tr>\n",
       "  </tbody>\n",
       "</table>\n",
       "</div>"
      ],
      "text/plain": [
       "  order_datetime  origin_longitude  origin_latitude  m_order_eta  \\\n",
       "0       18:08:07         -0.978916        51.456173         60.0   \n",
       "1       20:57:32         -0.950385        51.456843          NaN   \n",
       "2       20:57:32         -0.950385        51.456843          NaN   \n",
       "3       20:57:32         -0.950385        51.456843          NaN   \n",
       "4       12:07:50         -0.969520        51.455544        477.0   \n",
       "\n",
       "        order_gk  order_status_key  is_driver_assigned_key  \\\n",
       "0  3000583041974                 4                       1   \n",
       "1  3000583116437                 4                       0   \n",
       "2  3000583116437                 4                       0   \n",
       "3  3000583116437                 4                       0   \n",
       "4  3000582891479                 4                       1   \n",
       "\n",
       "   cancellations_time_in_seconds      offer_id  hr_of_day  \n",
       "0                          198.0  300050983403         18  \n",
       "1                          128.0  300050986179         20  \n",
       "2                          128.0  300050986174         20  \n",
       "3                          128.0  300050986180         20  \n",
       "4                           46.0  300050976275         12  "
      ]
     },
     "execution_count": 13,
     "metadata": {},
     "output_type": "execute_result"
    }
   ],
   "source": [
    "df.head()"
   ]
  },
  {
   "cell_type": "code",
   "execution_count": 14,
   "id": "90972ae2",
   "metadata": {},
   "outputs": [
    {
     "data": {
      "text/plain": [
       "24"
      ]
     },
     "execution_count": 14,
     "metadata": {},
     "output_type": "execute_result"
    }
   ],
   "source": [
    "df['hr_of_day'].value_counts().sort_index()\n",
    "df['hr_of_day'].nunique()"
   ]
  },
  {
   "cell_type": "code",
   "execution_count": 15,
   "id": "86d4768c",
   "metadata": {},
   "outputs": [
    {
     "data": {
      "image/png": "[encoded data removed]",
      "text/plain": [
       "<Figure size 720x432 with 1 Axes>"
      ]
     },
     "metadata": {
      "needs_background": "light"
     },
     "output_type": "display_data"
    }
   ],
   "source": [
    "fig = plt.figure(figsize=(10,6))\n",
    "ax = sns.countplot(data=df, x=\"hr_of_day\", order=df['hr_of_day'].value_counts().index)"
   ]
  },
  {
   "cell_type": "code",
   "execution_count": 16,
   "id": "d2c2b5e2",
   "metadata": {},
   "outputs": [
    {
     "data": {
      "image/png": "[encoded data removed]",
      "text/plain": [
       "<Figure size 720x432 with 1 Axes>"
      ]
     },
     "metadata": {
      "needs_background": "light"
     },
     "output_type": "display_data"
    }
   ],
   "source": [
    "fig = plt.figure(figsize=(10,6))\n",
    "tmp_df = df.hr_of_day.value_counts()\n",
    "ax = sns.lineplot(x=tmp_df.index, y=tmp_df, legend='full')\n",
    "g = ax.set_xticks(range(0, 24))\n",
    "g = ax.set_xticklabels(range(0, 24))"
   ]
  },
  {
   "cell_type": "markdown",
   "id": "50d8ec2e",
   "metadata": {},
   "source": [
    "Based on order hour, we can divide order failure into two groups.\n",
    "1. Order cancellation due to peak hours(time during which taxi demand is higher than usual) i.e. from 7AM to 9AM and 8PM to 10PM.\n",
    "2. Order cancellation due to odd hours i.e. 11PM to 3AM."
   ]
  },
  {
   "cell_type": "markdown",
   "id": "b95a83c7",
   "metadata": {},
   "source": [
    "##  Average time to cancellation with and without driver, by the hour"
   ]
  },
  {
   "cell_type": "code",
   "execution_count": 17,
   "id": "83f24533",
   "metadata": {},
   "outputs": [
    {
     "data": {
      "text/plain": [
       "<AxesSubplot:xlabel='cancellations_time_in_seconds', ylabel='Count'>"
      ]
     },
     "execution_count": 17,
     "metadata": {},
     "output_type": "execute_result"
    },
    {
     "data": {
      "image/png": "[encoded data removed]",
      "text/plain": [
       "<Figure size 720x432 with 1 Axes>"
      ]
     },
     "metadata": {
      "needs_background": "light"
     },
     "output_type": "display_data"
    }
   ],
   "source": [
    "df.cancellations_time_in_seconds.describe()\n",
    "tmp_df = df.cancellations_time_in_seconds\n",
    "min_outlier_value = tmp_df.mean() - tmp_df.std() * 3\n",
    "max_outlier_value = tmp_df.mean() + tmp_df.std() * 3\n",
    "df = df[(df.cancellations_time_in_seconds > min_outlier_value) & (df.cancellations_time_in_seconds < max_outlier_value)]\n",
    "\n",
    "\n",
    "\n",
    "fig = plt.figure(figsize=(10,6))\n",
    "sns.histplot(df.cancellations_time_in_seconds, kde=True)"
   ]
  },
  {
   "cell_type": "code",
   "execution_count": 18,
   "id": "ff50eb72",
   "metadata": {},
   "outputs": [
    {
     "data": {
      "text/plain": [
       "count    21297.000000\n",
       "mean       142.601446\n",
       "std        133.791006\n",
       "min          3.000000\n",
       "25%         55.000000\n",
       "50%        102.000000\n",
       "75%        186.000000\n",
       "max        762.000000\n",
       "Name: cancellations_time_in_seconds, dtype: float64"
      ]
     },
     "execution_count": 18,
     "metadata": {},
     "output_type": "execute_result"
    }
   ],
   "source": [
    "df.cancellations_time_in_seconds.describe()"
   ]
  },
  {
   "cell_type": "code",
   "execution_count": 19,
   "id": "d9edb0c8",
   "metadata": {},
   "outputs": [],
   "source": [
    "temp_df = df.groupby(['is_driver_assigned_key', 'hr_of_day'])['cancellations_time_in_seconds'].mean()"
   ]
  },
  {
   "cell_type": "code",
   "execution_count": 20,
   "id": "f8e230fb",
   "metadata": {},
   "outputs": [
    {
     "data": {
      "image/png": "[encoded data removed]",
      "text/plain": [
       "<Figure size 720x432 with 1 Axes>"
      ]
     },
     "metadata": {
      "needs_background": "light"
     },
     "output_type": "display_data"
    }
   ],
   "source": [
    "fig = plt.figure(figsize=(10, 6))\n",
    "ax = sns.lineplot(data=temp_df.reset_index(), x='hr_of_day', y='cancellations_time_in_seconds', hue='is_driver_assigned_key')\n",
    "g = ax.set_xticks(range(0, 24))\n",
    "g = ax.set_xticklabels(range(0, 24))"
   ]
  },
  {
   "cell_type": "markdown",
   "id": "ffce012b",
   "metadata": {},
   "source": [
    "Above lineplot shows that mean cancellations time is more for orders if drivers has been assigned. It makes some sense as driver matching and driver acceptance for orders takes few seconds. So, if client has cancelled order after driver assignment then cancellation time include driver matching and driver acceptance time, hence it has more average cancellations time across each hour of the day."
   ]
  },
  {
   "cell_type": "markdown",
   "id": "a19c7fc7",
   "metadata": {},
   "source": [
    "## Distribution of average ETA by hours"
   ]
  },
  {
   "cell_type": "code",
   "execution_count": 21,
   "id": "42f3a392",
   "metadata": {},
   "outputs": [],
   "source": [
    "temp_df = df.groupby('hr_of_day')['m_order_eta'].mean()\n",
    "temp_df = temp_df.reset_index()"
   ]
  },
  {
   "cell_type": "code",
   "execution_count": 22,
   "id": "3f4e4879",
   "metadata": {},
   "outputs": [
    {
     "data": {
      "image/png": "[encoded data removed]",
      "text/plain": [
       "<Figure size 720x432 with 1 Axes>"
      ]
     },
     "metadata": {
      "needs_background": "light"
     },
     "output_type": "display_data"
    }
   ],
   "source": [
    "fig = plt.figure(figsize=(10, 6))\n",
    "ax = sns.lineplot(data=temp_df, x='hr_of_day', y='m_order_eta')\n",
    "g = ax.set_xticks(range(0, 24))\n",
    "g = ax.set_xticklabels(range(0, 24))"
   ]
  },
  {
   "cell_type": "markdown",
   "id": "032dfbdd",
   "metadata": {},
   "source": [
    "## calculate how many sizes 8 hexes contain 80% of all orders from the original data sets and visualise the hexes, colouring them by the number of fails on the map"
   ]
  },
  {
   "cell_type": "code",
   "execution_count": 23,
   "id": "5f050a2a",
   "metadata": {},
   "outputs": [
    {
     "data": {
      "text/plain": [
       "(133,)"
      ]
     },
     "execution_count": 23,
     "metadata": {},
     "output_type": "execute_result"
    }
   ],
   "source": [
    "import h3\n",
    "import folium\n",
    "\n",
    "df[\"hex_id\"] = df.apply(\n",
    "    func=lambda row: h3.geo_to_h3(lat=row[\"origin_latitude\"], lng=row[\"origin_longitude\"], resolution=8), axis=1)\n",
    "\n",
    "grouped_q5 = df.groupby(by=\"hex_id\")[\"order_gk\"].count()\n",
    "grouped_q5.shape"
   ]
  },
  {
   "cell_type": "code",
   "execution_count": 24,
   "id": "4ea17977",
   "metadata": {},
   "outputs": [
    {
     "data": {
      "text/html": [
       "<div>\n",
       "<style scoped>\n",
       "    .dataframe tbody tr th:only-of-type {\n",
       "        vertical-align: middle;\n",
       "    }\n",
       "\n",
       "    .dataframe tbody tr th {\n",
       "        vertical-align: top;\n",
       "    }\n",
       "\n",
       "    .dataframe thead th {\n",
       "        text-align: right;\n",
       "    }\n",
       "</style>\n",
       "<table border=\"1\" class=\"dataframe\">\n",
       "  <thead>\n",
       "    <tr style=\"text-align: right;\">\n",
       "      <th></th>\n",
       "      <th>hex_id</th>\n",
       "      <th>order_gk</th>\n",
       "    </tr>\n",
       "  </thead>\n",
       "  <tbody>\n",
       "    <tr>\n",
       "      <th>51</th>\n",
       "      <td>88195d2a0dfffff</td>\n",
       "      <td>7</td>\n",
       "    </tr>\n",
       "    <tr>\n",
       "      <th>69</th>\n",
       "      <td>88195d2a45fffff</td>\n",
       "      <td>5</td>\n",
       "    </tr>\n",
       "    <tr>\n",
       "      <th>31</th>\n",
       "      <td>88195d2945fffff</td>\n",
       "      <td>11</td>\n",
       "    </tr>\n",
       "    <tr>\n",
       "      <th>42</th>\n",
       "      <td>88195d2967fffff</td>\n",
       "      <td>4</td>\n",
       "    </tr>\n",
       "    <tr>\n",
       "      <th>117</th>\n",
       "      <td>88195d2b63fffff</td>\n",
       "      <td>4</td>\n",
       "    </tr>\n",
       "  </tbody>\n",
       "</table>\n",
       "</div>"
      ],
      "text/plain": [
       "              hex_id  order_gk\n",
       "51   88195d2a0dfffff         7\n",
       "69   88195d2a45fffff         5\n",
       "31   88195d2945fffff        11\n",
       "42   88195d2967fffff         4\n",
       "117  88195d2b63fffff         4"
      ]
     },
     "execution_count": 24,
     "metadata": {},
     "output_type": "execute_result"
    }
   ],
   "source": [
    "grouped_q5 = grouped_q5.reset_index()\n",
    "grouped_q5.sample(n=5, random_state=42)"
   ]
  },
  {
   "cell_type": "markdown",
   "id": "00a754ff",
   "metadata": {},
   "source": [
    "To find the number of hexes that contain 80% of the orders, we will apply a cumulative percentage operation over the order_gk count column in the grouped_q5 DataFrame. This consists of the following steps:\n",
    "\n",
    "- Sort the DataFrame by the count.\n",
    "- Find the total number (sum) of failed orders.\n",
    "- Apply the method cumsum to find the cumulative sum of the order-count column.\n",
    "- Divide by the total sum to generate percentages.\n",
    "- Filter to find the row that is closest to 80%."
   ]
  },
  {
   "cell_type": "code",
   "execution_count": 25,
   "id": "ee4f1412",
   "metadata": {},
   "outputs": [
    {
     "data": {
      "text/html": [
       "<div>\n",
       "<style scoped>\n",
       "    .dataframe tbody tr th:only-of-type {\n",
       "        vertical-align: middle;\n",
       "    }\n",
       "\n",
       "    .dataframe tbody tr th {\n",
       "        vertical-align: top;\n",
       "    }\n",
       "\n",
       "    .dataframe thead th {\n",
       "        text-align: right;\n",
       "    }\n",
       "</style>\n",
       "<table border=\"1\" class=\"dataframe\">\n",
       "  <thead>\n",
       "    <tr style=\"text-align: right;\">\n",
       "      <th></th>\n",
       "      <th>hex_id</th>\n",
       "      <th>order_gk</th>\n",
       "      <th>cum_sum</th>\n",
       "      <th>cum_perc</th>\n",
       "    </tr>\n",
       "  </thead>\n",
       "  <tbody>\n",
       "    <tr>\n",
       "      <th>36</th>\n",
       "      <td>88195d2953fffff</td>\n",
       "      <td>1</td>\n",
       "      <td>1</td>\n",
       "      <td>0.004695</td>\n",
       "    </tr>\n",
       "    <tr>\n",
       "      <th>131</th>\n",
       "      <td>88195d74d5fffff</td>\n",
       "      <td>1</td>\n",
       "      <td>2</td>\n",
       "      <td>0.009391</td>\n",
       "    </tr>\n",
       "    <tr>\n",
       "      <th>76</th>\n",
       "      <td>88195d2ae1fffff</td>\n",
       "      <td>1</td>\n",
       "      <td>3</td>\n",
       "      <td>0.014086</td>\n",
       "    </tr>\n",
       "    <tr>\n",
       "      <th>77</th>\n",
       "      <td>88195d2aebfffff</td>\n",
       "      <td>1</td>\n",
       "      <td>4</td>\n",
       "      <td>0.018782</td>\n",
       "    </tr>\n",
       "    <tr>\n",
       "      <th>43</th>\n",
       "      <td>88195d2969fffff</td>\n",
       "      <td>1</td>\n",
       "      <td>5</td>\n",
       "      <td>0.023477</td>\n",
       "    </tr>\n",
       "    <tr>\n",
       "      <th>...</th>\n",
       "      <td>...</td>\n",
       "      <td>...</td>\n",
       "      <td>...</td>\n",
       "      <td>...</td>\n",
       "    </tr>\n",
       "    <tr>\n",
       "      <th>86</th>\n",
       "      <td>88195d2b13fffff</td>\n",
       "      <td>738</td>\n",
       "      <td>9907</td>\n",
       "      <td>46.518289</td>\n",
       "    </tr>\n",
       "    <tr>\n",
       "      <th>19</th>\n",
       "      <td>88195d284dfffff</td>\n",
       "      <td>1277</td>\n",
       "      <td>11184</td>\n",
       "      <td>52.514439</td>\n",
       "    </tr>\n",
       "    <tr>\n",
       "      <th>89</th>\n",
       "      <td>88195d2b19fffff</td>\n",
       "      <td>1343</td>\n",
       "      <td>12527</td>\n",
       "      <td>58.820491</td>\n",
       "    </tr>\n",
       "    <tr>\n",
       "      <th>85</th>\n",
       "      <td>88195d2b11fffff</td>\n",
       "      <td>1485</td>\n",
       "      <td>14012</td>\n",
       "      <td>65.793304</td>\n",
       "    </tr>\n",
       "    <tr>\n",
       "      <th>90</th>\n",
       "      <td>88195d2b1bfffff</td>\n",
       "      <td>1800</td>\n",
       "      <td>15812</td>\n",
       "      <td>74.245199</td>\n",
       "    </tr>\n",
       "  </tbody>\n",
       "</table>\n",
       "<p>131 rows × 4 columns</p>\n",
       "</div>"
      ],
      "text/plain": [
       "              hex_id  order_gk  cum_sum   cum_perc\n",
       "36   88195d2953fffff         1        1   0.004695\n",
       "131  88195d74d5fffff         1        2   0.009391\n",
       "76   88195d2ae1fffff         1        3   0.014086\n",
       "77   88195d2aebfffff         1        4   0.018782\n",
       "43   88195d2969fffff         1        5   0.023477\n",
       "..               ...       ...      ...        ...\n",
       "86   88195d2b13fffff       738     9907  46.518289\n",
       "19   88195d284dfffff      1277    11184  52.514439\n",
       "89   88195d2b19fffff      1343    12527  58.820491\n",
       "85   88195d2b11fffff      1485    14012  65.793304\n",
       "90   88195d2b1bfffff      1800    15812  74.245199\n",
       "\n",
       "[131 rows x 4 columns]"
      ]
     },
     "execution_count": 25,
     "metadata": {},
     "output_type": "execute_result"
    }
   ],
   "source": [
    "grouped_q5 = grouped_q5.sort_values(by=\"order_gk\")  # 1\n",
    "total_orders = grouped_q5[\"order_gk\"].sum()  # 2\n",
    "grouped_q5[\"cum_sum\"] = grouped_q5[\"order_gk\"].cumsum()  # 3\n",
    "grouped_q5[\"cum_perc\"] = 100 * grouped_q5[\"cum_sum\"] / total_orders  # 4\n",
    "grouped_q5[grouped_q5[\"cum_perc\"] <= 80]  # 5"
   ]
  },
  {
   "cell_type": "markdown",
   "id": "19cc3e87",
   "metadata": {},
   "source": [
    "There are 131 rows in the final output, and 133 rows in the original grouped DataFrame, meaning that 131 hexagons contain around 80% of data, and only 2 hexagons contain the other 20%!"
   ]
  },
  {
   "cell_type": "code",
   "execution_count": 26,
   "id": "e0a387b6",
   "metadata": {},
   "outputs": [],
   "source": [
    "map = folium.Map(location=[df[\"origin_latitude\"].mean(), df[\"origin_longitude\"].mean()],\n",
    "                 zoom_start=8.5,  # after a bit of experimentation, we thought this presents the map best\n",
    "                 tiles=\"cartodbpositron\")"
   ]
  },
  {
   "cell_type": "code",
   "execution_count": 27,
   "id": "5085f15b",
   "metadata": {},
   "outputs": [],
   "source": [
    "import json\n",
    "import geojson\n",
    "\n",
    "\n",
    "def to_geojson(row):\n",
    "    \"\"\"Transform hex_id into a geojson object.\"\"\"\n",
    "    geometry = {\n",
    "        \"type\": \"Polygon\",\n",
    "        \"coordinates\": [h3.h3_to_geo_boundary(h=row[\"hex_id\"], geo_json=True)]\n",
    "    }\n",
    "    return geojson.Feature(id=row[\"hex_id\"], geometry=geometry, properties={\"order_gk\": row[\"order_gk\"]})\n",
    "\n",
    "\n",
    "geojsons = grouped_q5.apply(func=to_geojson, axis=1).values.tolist()\n",
    "geojson_str: str = json.dumps(geojson.FeatureCollection(geojsons))"
   ]
  },
  {
   "cell_type": "code",
   "execution_count": 28,
   "id": "83562357",
   "metadata": {},
   "outputs": [],
   "source": [
    "import matplotlib\n",
    "\n",
    "# instantiate a colormap object for better visualisation\n",
    "colormap = matplotlib.cm.get_cmap(name=\"plasma\")\n",
    "max_order_gk = grouped_q5[\"order_gk\"].max()\n",
    "min_order_gk = grouped_q5[\"order_gk\"].min()"
   ]
  },
  {
   "cell_type": "code",
   "execution_count": 29,
   "id": "4d4b78fa",
   "metadata": {},
   "outputs": [],
   "source": [
    "_ = folium.GeoJson(data=geojson_str, style_function=lambda f: {\n",
    "    \"fillColor\": matplotlib.colors.to_hex(\n",
    "        colormap((f[\"properties\"][\"order_gk\"] - min_order_gk) / (max_order_gk - min_order_gk))),\n",
    "    \"color\": \"black\",\n",
    "    \"weight\": 1,\n",
    "    \"fillOpacity\": 0.7\n",
    "}).add_to(map)"
   ]
  },
  {
   "cell_type": "code",
   "execution_count": 30,
   "id": "47b19340",
   "metadata": {},
   "outputs": [
    {
     "data": {
      "text/html": [
       "<div style=\"width:100%;\"><div style=\"position:relative;width:100%;height:0;padding-bottom:60%;\"><span style=\"color:#565656\">Make this Notebook Trusted to load map: File -> Trust Notebook</span><iframe srcdoc=\"&lt;!DOCTYPE html&gt;\n",
       "&lt;head&gt;    \n",
       "    &lt;meta http-equiv=&quot;content-type&quot; content=&quot;text/html; charset=UTF-8&quot; /&gt;\n",
       "    \n",
       "        &lt;script&gt;\n",
       "            L_NO_TOUCH = false;\n",
       "            L_DISABLE_3D = false;\n",
       "        &lt;/script&gt;\n",
       "    \n",
       "    &lt;style&gt;html, body {width: 100%;height: 100%;margin: 0;padding: 0;}&lt;/style&gt;\n",
       "    &lt;style&gt;#map {position:absolute;top:0;bottom:0;right:0;left:0;}&lt;/style&gt;\n",
       "    &lt;script src=&quot;https://cdn.jsdelivr.net/npm/leaflet@1.6.0/dist/leaflet.js&quot;&gt;&lt;/script&gt;\n",
       "    &lt;script src=&quot;https://code.jquery.com/jquery-1.12.4.min.js&quot;&gt;&lt;/script&gt;\n",
       "    &lt;script src=&quot;https://maxcdn.bootstrapcdn.com/bootstrap/3.2.0/js/bootstrap.min.js&quot;&gt;&lt;/script&gt;\n",
       "    &lt;script src=&quot;https://cdnjs.cloudflare.com/ajax/libs/Leaflet.awesome-markers/2.0.2/leaflet.awesome-markers.js&quot;&gt;&lt;/script&gt;\n",
       "    &lt;link rel=&quot;stylesheet&quot; href=&quot;https://cdn.jsdelivr.net/npm/leaflet@1.6.0/dist/leaflet.css&quot;/&gt;\n",
       "    &lt;link rel=&quot;stylesheet&quot; href=&quot;https://maxcdn.bootstrapcdn.com/bootstrap/3.2.0/css/bootstrap.min.css&quot;/&gt;\n",
       "    &lt;link rel=&quot;stylesheet&quot; href=&quot;https://maxcdn.bootstrapcdn.com/bootstrap/3.2.0/css/bootstrap-theme.min.css&quot;/&gt;\n",
       "    &lt;link rel=&quot;stylesheet&quot; href=&quot;https://maxcdn.bootstrapcdn.com/font-awesome/4.6.3/css/font-awesome.min.css&quot;/&gt;\n",
       "    &lt;link rel=&quot;stylesheet&quot; href=&quot;https://cdnjs.cloudflare.com/ajax/libs/Leaflet.awesome-markers/2.0.2/leaflet.awesome-markers.css&quot;/&gt;\n",
       "    &lt;link rel=&quot;stylesheet&quot; href=&quot;https://cdn.jsdelivr.net/gh/python-visualization/folium/folium/templates/leaflet.awesome.rotate.min.css&quot;/&gt;\n",
       "    \n",
       "            &lt;meta name=&quot;viewport&quot; content=&quot;width=device-width,\n",
       "                initial-scale=1.0, maximum-scale=1.0, user-scalable=no&quot; /&gt;\n",
       "            &lt;style&gt;\n",
       "                #map_0e871c0b35af05e5a0e2005709399009 {\n",
       "                    position: relative;\n",
       "                    width: 100.0%;\n",
       "                    height: 100.0%;\n",
       "                    left: 0.0%;\n",
       "                    top: 0.0%;\n",
       "                }\n",
       "            &lt;/style&gt;\n",
       "        \n",
       "&lt;/head&gt;\n",
       "&lt;body&gt;    \n",
       "    \n",
       "            &lt;div class=&quot;folium-map&quot; id=&quot;map_0e871c0b35af05e5a0e2005709399009&quot; &gt;&lt;/div&gt;\n",
       "        \n",
       "&lt;/body&gt;\n",
       "&lt;script&gt;    \n",
       "    \n",
       "            var map_0e871c0b35af05e5a0e2005709399009 = L.map(\n",
       "                &quot;map_0e871c0b35af05e5a0e2005709399009&quot;,\n",
       "                {\n",
       "                    center: [51.450699960182185, -0.9640496105085223],\n",
       "                    crs: L.CRS.EPSG3857,\n",
       "                    zoom: 8.5,\n",
       "                    zoomControl: true,\n",
       "                    preferCanvas: false,\n",
       "                }\n",
       "            );\n",
       "\n",
       "            \n",
       "\n",
       "        \n",
       "    \n",
       "            var tile_layer_b06cad363fb0b6fcfe3bfaaa3f112405 = L.tileLayer(\n",
       "                &quot;https://cartodb-basemaps-{s}.global.ssl.fastly.net/light_all/{z}/{x}/{y}.png&quot;,\n",
       "                {&quot;attribution&quot;: &quot;\\u0026copy; \\u003ca href=\\&quot;http://www.openstreetmap.org/copyright\\&quot;\\u003eOpenStreetMap\\u003c/a\\u003e contributors \\u0026copy; \\u003ca href=\\&quot;http://cartodb.com/attributions\\&quot;\\u003eCartoDB\\u003c/a\\u003e, CartoDB \\u003ca href =\\&quot;http://cartodb.com/attributions\\&quot;\\u003eattributions\\u003c/a\\u003e&quot;, &quot;detectRetina&quot;: false, &quot;maxNativeZoom&quot;: 18, &quot;maxZoom&quot;: 18, &quot;minZoom&quot;: 0, &quot;noWrap&quot;: false, &quot;opacity&quot;: 1, &quot;subdomains&quot;: &quot;abc&quot;, &quot;tms&quot;: false}\n",
       "            ).addTo(map_0e871c0b35af05e5a0e2005709399009);\n",
       "        \n",
       "    \n",
       "        function geo_json_cc0d2ff6233231ec7f292cd28cfbff7a_styler(feature) {\n",
       "            switch(feature.id) {\n",
       "                case &quot;88195d2a07fffff&quot;: case &quot;88195d2865fffff&quot;: case &quot;88195d2947fffff&quot;: case &quot;88195d2a15fffff&quot;: case &quot;88195d294dfffff&quot;: case &quot;88195d2b5dfffff&quot;: case &quot;88195d2a29fffff&quot;: case &quot;88195d284bfffff&quot;: case &quot;88195d2b21fffff&quot;: case &quot;88195d2b4bfffff&quot;: case &quot;88195d2b6bfffff&quot;: case &quot;88195d283dfffff&quot;: case &quot;88195d2809fffff&quot;: case &quot;88195d2a2dfffff&quot;: case &quot;88195d2b29fffff&quot;: case &quot;88195d7493fffff&quot;: case &quot;88195d295bfffff&quot;: case &quot;88195d2941fffff&quot;: case &quot;88195d2801fffff&quot;: case &quot;88195d2a17fffff&quot;: \n",
       "                    return {&quot;color&quot;: &quot;black&quot;, &quot;fillColor&quot;: &quot;#100788&quot;, &quot;fillOpacity&quot;: 0.7, &quot;weight&quot;: 1};\n",
       "                case &quot;88195d296bfffff&quot;: case &quot;88195d2b2bfffff&quot;: case &quot;88195d2949fffff&quot;: case &quot;88195d285dfffff&quot;: case &quot;88195d2943fffff&quot;: case &quot;88195d2a3dfffff&quot;: case &quot;88195d39b7fffff&quot;: case &quot;88195d2a69fffff&quot;: case &quot;88195d2a39fffff&quot;: case &quot;88195d286dfffff&quot;: case &quot;88195d2b33fffff&quot;: case &quot;88195d2a37fffff&quot;: \n",
       "                    return {&quot;color&quot;: &quot;black&quot;, &quot;fillColor&quot;: &quot;#130789&quot;, &quot;fillOpacity&quot;: 0.7, &quot;weight&quot;: 1};\n",
       "                case &quot;88195d2b23fffff&quot;: case &quot;88195d2b43fffff&quot;: case &quot;88195d2b47fffff&quot;: case &quot;88195d2b35fffff&quot;: \n",
       "                    return {&quot;color&quot;: &quot;black&quot;, &quot;fillColor&quot;: &quot;#16078a&quot;, &quot;fillOpacity&quot;: 0.7, &quot;weight&quot;: 1};\n",
       "                case &quot;88195d2829fffff&quot;: case &quot;88195d280dfffff&quot;: case &quot;88195d2b01fffff&quot;: \n",
       "                    return {&quot;color&quot;: &quot;black&quot;, &quot;fillColor&quot;: &quot;#19068c&quot;, &quot;fillOpacity&quot;: 0.7, &quot;weight&quot;: 1};\n",
       "                case &quot;88195d294bfffff&quot;: case &quot;88195d286bfffff&quot;: case &quot;88195d282dfffff&quot;: \n",
       "                    return {&quot;color&quot;: &quot;black&quot;, &quot;fillColor&quot;: &quot;#1b068d&quot;, &quot;fillOpacity&quot;: 0.7, &quot;weight&quot;: 1};\n",
       "                case &quot;88195d2867fffff&quot;: case &quot;88195d2b37fffff&quot;: case &quot;88195d2849fffff&quot;: \n",
       "                    return {&quot;color&quot;: &quot;black&quot;, &quot;fillColor&quot;: &quot;#1d068e&quot;, &quot;fillOpacity&quot;: 0.7, &quot;weight&quot;: 1};\n",
       "                case &quot;88195d2a2bfffff&quot;: case &quot;88195d2b0dfffff&quot;: case &quot;88195d2b07fffff&quot;: case &quot;88195d2843fffff&quot;: case &quot;88195d2b09fffff&quot;: \n",
       "                    return {&quot;color&quot;: &quot;black&quot;, &quot;fillColor&quot;: &quot;#20068f&quot;, &quot;fillOpacity&quot;: 0.7, &quot;weight&quot;: 1};\n",
       "                case &quot;88195d2863fffff&quot;: \n",
       "                    return {&quot;color&quot;: &quot;black&quot;, &quot;fillColor&quot;: &quot;#220690&quot;, &quot;fillOpacity&quot;: 0.7, &quot;weight&quot;: 1};\n",
       "                case &quot;88195d2847fffff&quot;: case &quot;88195d2a35fffff&quot;: \n",
       "                    return {&quot;color&quot;: &quot;black&quot;, &quot;fillColor&quot;: &quot;#240691&quot;, &quot;fillOpacity&quot;: 0.7, &quot;weight&quot;: 1};\n",
       "                case &quot;88195d2b51fffff&quot;: case &quot;88195d2a23fffff&quot;: \n",
       "                    return {&quot;color&quot;: &quot;black&quot;, &quot;fillColor&quot;: &quot;#260591&quot;, &quot;fillOpacity&quot;: 0.7, &quot;weight&quot;: 1};\n",
       "                case &quot;88195d2841fffff&quot;: case &quot;88195d2b55fffff&quot;: \n",
       "                    return {&quot;color&quot;: &quot;black&quot;, &quot;fillColor&quot;: &quot;#280592&quot;, &quot;fillOpacity&quot;: 0.7, &quot;weight&quot;: 1};\n",
       "                case &quot;88195d2b57fffff&quot;: \n",
       "                    return {&quot;color&quot;: &quot;black&quot;, &quot;fillColor&quot;: &quot;#2a0593&quot;, &quot;fillOpacity&quot;: 0.7, &quot;weight&quot;: 1};\n",
       "                case &quot;88195d2b3bfffff&quot;: case &quot;88195d2845fffff&quot;: \n",
       "                    return {&quot;color&quot;: &quot;black&quot;, &quot;fillColor&quot;: &quot;#2c0594&quot;, &quot;fillOpacity&quot;: 0.7, &quot;weight&quot;: 1};\n",
       "                case &quot;88195d2869fffff&quot;: \n",
       "                    return {&quot;color&quot;: &quot;black&quot;, &quot;fillColor&quot;: &quot;#330597&quot;, &quot;fillOpacity&quot;: 0.7, &quot;weight&quot;: 1};\n",
       "                case &quot;88195d2b31fffff&quot;: \n",
       "                    return {&quot;color&quot;: &quot;black&quot;, &quot;fillColor&quot;: &quot;#370499&quot;, &quot;fillOpacity&quot;: 0.7, &quot;weight&quot;: 1};\n",
       "                case &quot;88195d2a21fffff&quot;: \n",
       "                    return {&quot;color&quot;: &quot;black&quot;, &quot;fillColor&quot;: &quot;#3a049a&quot;, &quot;fillOpacity&quot;: 0.7, &quot;weight&quot;: 1};\n",
       "                case &quot;88195d2b3dfffff&quot;: \n",
       "                    return {&quot;color&quot;: &quot;black&quot;, &quot;fillColor&quot;: &quot;#3e049c&quot;, &quot;fillOpacity&quot;: 0.7, &quot;weight&quot;: 1};\n",
       "                case &quot;88195d2b17fffff&quot;: \n",
       "                    return {&quot;color&quot;: &quot;black&quot;, &quot;fillColor&quot;: &quot;#3f049c&quot;, &quot;fillOpacity&quot;: 0.7, &quot;weight&quot;: 1};\n",
       "                case &quot;88195d2861fffff&quot;: \n",
       "                    return {&quot;color&quot;: &quot;black&quot;, &quot;fillColor&quot;: &quot;#41049d&quot;, &quot;fillOpacity&quot;: 0.7, &quot;weight&quot;: 1};\n",
       "                case &quot;88195d2b39fffff&quot;: \n",
       "                    return {&quot;color&quot;: &quot;black&quot;, &quot;fillColor&quot;: &quot;#43039e&quot;, &quot;fillOpacity&quot;: 0.7, &quot;weight&quot;: 1};\n",
       "                case &quot;88195d2b03fffff&quot;: \n",
       "                    return {&quot;color&quot;: &quot;black&quot;, &quot;fillColor&quot;: &quot;#5302a3&quot;, &quot;fillOpacity&quot;: 0.7, &quot;weight&quot;: 1};\n",
       "                case &quot;88195d2b0bfffff&quot;: \n",
       "                    return {&quot;color&quot;: &quot;black&quot;, &quot;fillColor&quot;: &quot;#6600a7&quot;, &quot;fillOpacity&quot;: 0.7, &quot;weight&quot;: 1};\n",
       "                case &quot;88195d2a25fffff&quot;: \n",
       "                    return {&quot;color&quot;: &quot;black&quot;, &quot;fillColor&quot;: &quot;#6700a8&quot;, &quot;fillOpacity&quot;: 0.7, &quot;weight&quot;: 1};\n",
       "                case &quot;88195d2a27fffff&quot;: \n",
       "                    return {&quot;color&quot;: &quot;black&quot;, &quot;fillColor&quot;: &quot;#6900a8&quot;, &quot;fillOpacity&quot;: 0.7, &quot;weight&quot;: 1};\n",
       "                case &quot;88195d2b13fffff&quot;: \n",
       "                    return {&quot;color&quot;: &quot;black&quot;, &quot;fillColor&quot;: &quot;#6a00a8&quot;, &quot;fillOpacity&quot;: 0.7, &quot;weight&quot;: 1};\n",
       "                case &quot;88195d284dfffff&quot;: \n",
       "                    return {&quot;color&quot;: &quot;black&quot;, &quot;fillColor&quot;: &quot;#a01a9c&quot;, &quot;fillOpacity&quot;: 0.7, &quot;weight&quot;: 1};\n",
       "                case &quot;88195d2b19fffff&quot;: \n",
       "                    return {&quot;color&quot;: &quot;black&quot;, &quot;fillColor&quot;: &quot;#a62098&quot;, &quot;fillOpacity&quot;: 0.7, &quot;weight&quot;: 1};\n",
       "                case &quot;88195d2b11fffff&quot;: \n",
       "                    return {&quot;color&quot;: &quot;black&quot;, &quot;fillColor&quot;: &quot;#b22b8f&quot;, &quot;fillOpacity&quot;: 0.7, &quot;weight&quot;: 1};\n",
       "                case &quot;88195d2b1bfffff&quot;: case &quot;88195d2b15fffff&quot;: \n",
       "                    return {&quot;color&quot;: &quot;black&quot;, &quot;fillColor&quot;: &quot;#c9447a&quot;, &quot;fillOpacity&quot;: 0.7, &quot;weight&quot;: 1};\n",
       "                case &quot;88195d2b1dfffff&quot;: \n",
       "                    return {&quot;color&quot;: &quot;black&quot;, &quot;fillColor&quot;: &quot;#f0f921&quot;, &quot;fillOpacity&quot;: 0.7, &quot;weight&quot;: 1};\n",
       "                default:\n",
       "                    return {&quot;color&quot;: &quot;black&quot;, &quot;fillColor&quot;: &quot;#0d0887&quot;, &quot;fillOpacity&quot;: 0.7, &quot;weight&quot;: 1};\n",
       "            }\n",
       "        }\n",
       "\n",
       "        function geo_json_cc0d2ff6233231ec7f292cd28cfbff7a_onEachFeature(feature, layer) {\n",
       "            layer.on({\n",
       "            });\n",
       "        };\n",
       "        var geo_json_cc0d2ff6233231ec7f292cd28cfbff7a = L.geoJson(null, {\n",
       "                onEachFeature: geo_json_cc0d2ff6233231ec7f292cd28cfbff7a_onEachFeature,\n",
       "            \n",
       "                style: geo_json_cc0d2ff6233231ec7f292cd28cfbff7a_styler,\n",
       "        });\n",
       "\n",
       "        function geo_json_cc0d2ff6233231ec7f292cd28cfbff7a_add (data) {\n",
       "            geo_json_cc0d2ff6233231ec7f292cd28cfbff7a\n",
       "                .addData(data)\n",
       "                .addTo(map_0e871c0b35af05e5a0e2005709399009);\n",
       "        }\n",
       "            geo_json_cc0d2ff6233231ec7f292cd28cfbff7a_add({&quot;features&quot;: [{&quot;geometry&quot;: {&quot;coordinates&quot;: [[[-1.002493, 51.425819], [-1.009223, 51.424567], [-1.010385, 51.420063], [-1.004818, 51.416811], [-0.99809, 51.418063], [-0.996927, 51.422567], [-1.002493, 51.425819]]], &quot;type&quot;: &quot;Polygon&quot;}, &quot;id&quot;: &quot;88195d2953fffff&quot;, &quot;properties&quot;: {&quot;order_gk&quot;: 1}, &quot;type&quot;: &quot;Feature&quot;}, {&quot;geometry&quot;: {&quot;coordinates&quot;: [[[-1.050087, 51.489851], [-1.056825, 51.488599], [-1.057985, 51.484096], [-1.052408, 51.480846], [-1.04567, 51.482099], [-1.044509, 51.486601], [-1.050087, 51.489851]]], &quot;type&quot;: &quot;Polygon&quot;}, &quot;id&quot;: &quot;88195d74d5fffff&quot;, &quot;properties&quot;: {&quot;order_gk&quot;: 1}, &quot;type&quot;: &quot;Feature&quot;}, {&quot;geometry&quot;: {&quot;coordinates&quot;: [[[-0.8884, 51.421271], [-0.895125, 51.420026], [-0.896295, 51.415525], [-0.890741, 51.412269], [-0.884017, 51.413514], [-0.882846, 51.418014], [-0.8884, 51.421271]]], &quot;type&quot;: &quot;Polygon&quot;}, &quot;id&quot;: &quot;88195d2ae1fffff&quot;, &quot;properties&quot;: {&quot;order_gk&quot;: 1}, &quot;type&quot;: &quot;Feature&quot;}, {&quot;geometry&quot;: {&quot;coordinates&quot;: [[[-0.876122, 51.419258], [-0.882846, 51.418014], [-0.884017, 51.413514], [-0.878463, 51.410257], [-0.87174, 51.411501], [-0.870569, 51.416002], [-0.876122, 51.419258]]], &quot;type&quot;: &quot;Polygon&quot;}, &quot;id&quot;: &quot;88195d2aebfffff&quot;, &quot;properties&quot;: {&quot;order_gk&quot;: 1}, &quot;type&quot;: &quot;Feature&quot;}, {&quot;geometry&quot;: {&quot;coordinates&quot;: [[[-1.052631, 51.45508], [-1.059366, 51.453826], [-1.060525, 51.449322], [-1.054951, 51.446072], [-1.048217, 51.447326], [-1.047057, 51.45183], [-1.052631, 51.45508]]], &quot;type&quot;: &quot;Polygon&quot;}, &quot;id&quot;: &quot;88195d2969fffff&quot;, &quot;properties&quot;: {&quot;order_gk&quot;: 1}, &quot;type&quot;: &quot;Feature&quot;}, {&quot;geometry&quot;: {&quot;coordinates&quot;: [[[-1.033357, 51.4801], [-1.040093, 51.478848], [-1.041255, 51.474346], [-1.035679, 51.471095], [-1.028943, 51.472347], [-1.027782, 51.476849], [-1.033357, 51.4801]]], &quot;type&quot;: &quot;Polygon&quot;}, &quot;id&quot;: &quot;88195d74d3fffff&quot;, &quot;properties&quot;: {&quot;order_gk&quot;: 1}, &quot;type&quot;: &quot;Feature&quot;}, {&quot;geometry&quot;: {&quot;coordinates&quot;: [[[-0.903318, 51.487042], [-0.910052, 51.485798], [-0.911222, 51.4813], [-0.905659, 51.478045], [-0.898927, 51.479288], [-0.897756, 51.483786], [-0.903318, 51.487042]]], &quot;type&quot;: &quot;Polygon&quot;}, &quot;id&quot;: &quot;88195d3993fffff&quot;, &quot;properties&quot;: {&quot;order_gk&quot;: 1}, &quot;type&quot;: &quot;Feature&quot;}, {&quot;geometry&quot;: {&quot;coordinates&quot;: [[[-0.940216, 51.493073], [-0.946951, 51.491828], [-0.948119, 51.487329], [-0.942552, 51.484075], [-0.935818, 51.48532], [-0.934649, 51.489819], [-0.940216, 51.493073]]], &quot;type&quot;: &quot;Polygon&quot;}, &quot;id&quot;: &quot;88195d39b1fffff&quot;, &quot;properties&quot;: {&quot;order_gk&quot;: 1}, &quot;type&quot;: &quot;Feature&quot;}, {&quot;geometry&quot;: {&quot;coordinates&quot;: [[[-1.037771, 51.487852], [-1.044509, 51.486601], [-1.04567, 51.482099], [-1.040093, 51.478848], [-1.033357, 51.4801], [-1.032195, 51.484602], [-1.037771, 51.487852]]], &quot;type&quot;: &quot;Polygon&quot;}, &quot;id&quot;: &quot;88195d74d1fffff&quot;, &quot;properties&quot;: {&quot;order_gk&quot;: 1}, &quot;type&quot;: &quot;Feature&quot;}, {&quot;geometry&quot;: {&quot;coordinates&quot;: [[[-0.973505, 51.414059], [-0.980233, 51.412808], [-0.981396, 51.408305], [-0.975834, 51.405052], [-0.969108, 51.406302], [-0.967943, 51.410806], [-0.973505, 51.414059]]], &quot;type&quot;: &quot;Polygon&quot;}, &quot;id&quot;: &quot;88195d282bfffff&quot;, &quot;properties&quot;: {&quot;order_gk&quot;: 1}, &quot;type&quot;: &quot;Feature&quot;}, {&quot;geometry&quot;: {&quot;coordinates&quot;: [[[-0.935818, 51.48532], [-0.942552, 51.484075], [-0.94372, 51.479576], [-0.938154, 51.476322], [-0.931421, 51.477567], [-0.930252, 51.482066], [-0.935818, 51.48532]]], &quot;type&quot;: &quot;Polygon&quot;}, &quot;id&quot;: &quot;88195d39b3fffff&quot;, &quot;properties&quot;: {&quot;order_gk&quot;: 1}, &quot;type&quot;: &quot;Feature&quot;}, {&quot;geometry&quot;: {&quot;coordinates&quot;: [[[-1.060525, 51.449322], [-1.06726, 51.448068], [-1.068418, 51.443563], [-1.062843, 51.440313], [-1.05611, 51.441568], [-1.054951, 51.446072], [-1.060525, 51.449322]]], &quot;type&quot;: &quot;Polygon&quot;}, &quot;id&quot;: &quot;88195d2961fffff&quot;, &quot;properties&quot;: {&quot;order_gk&quot;: 2}, &quot;type&quot;: &quot;Feature&quot;}, {&quot;geometry&quot;: {&quot;coordinates&quot;: [[[-1.057985, 51.484096], [-1.064724, 51.482844], [-1.065883, 51.478341], [-1.060305, 51.475091], [-1.053568, 51.476344], [-1.052408, 51.480846], [-1.057985, 51.484096]]], &quot;type&quot;: &quot;Polygon&quot;}, &quot;id&quot;: &quot;88195d748bfffff&quot;, &quot;properties&quot;: {&quot;order_gk&quot;: 2}, &quot;type&quot;: &quot;Feature&quot;}, {&quot;geometry&quot;: {&quot;coordinates&quot;: [[[-1.04567, 51.482099], [-1.052408, 51.480846], [-1.053568, 51.476344], [-1.047991, 51.473093], [-1.041255, 51.474346], [-1.040093, 51.478848], [-1.04567, 51.482099]]], &quot;type&quot;: &quot;Polygon&quot;}, &quot;id&quot;: &quot;88195d74d7fffff&quot;, &quot;properties&quot;: {&quot;order_gk&quot;: 2}, &quot;type&quot;: &quot;Feature&quot;}, {&quot;geometry&quot;: {&quot;coordinates&quot;: [[[-1.053568, 51.476344], [-1.060305, 51.475091], [-1.061464, 51.470587], [-1.055888, 51.467337], [-1.049151, 51.46859], [-1.047991, 51.473093], [-1.053568, 51.476344]]], &quot;type&quot;: &quot;Polygon&quot;}, &quot;id&quot;: &quot;88195d749dfffff&quot;, &quot;properties&quot;: {&quot;order_gk&quot;: 2}, &quot;type&quot;: &quot;Feature&quot;}, {&quot;geometry&quot;: {&quot;coordinates&quot;: [[[-1.019198, 51.435575], [-1.025929, 51.434322], [-1.02709, 51.429818], [-1.021521, 51.426567], [-1.014791, 51.427819], [-1.013629, 51.432323], [-1.019198, 51.435575]]], &quot;type&quot;: &quot;Polygon&quot;}, &quot;id&quot;: &quot;88195d2955fffff&quot;, &quot;properties&quot;: {&quot;order_gk&quot;: 3}, &quot;type&quot;: &quot;Feature&quot;}, {&quot;geometry&quot;: {&quot;coordinates&quot;: [[[-1.024532, 51.464593], [-1.031267, 51.463341], [-1.032428, 51.458838], [-1.026855, 51.455587], [-1.020121, 51.456839], [-1.018959, 51.461342], [-1.024532, 51.464593]]], &quot;type&quot;: &quot;Polygon&quot;}, &quot;id&quot;: &quot;88195d2b27fffff&quot;, &quot;properties&quot;: {&quot;order_gk&quot;: 3}, &quot;type&quot;: &quot;Feature&quot;}, {&quot;geometry&quot;: {&quot;coordinates&quot;: [[[-1.05611, 51.441568], [-1.062843, 51.440313], [-1.064002, 51.435808], [-1.058428, 51.432558], [-1.051696, 51.433813], [-1.050536, 51.438317], [-1.05611, 51.441568]]], &quot;type&quot;: &quot;Polygon&quot;}, &quot;id&quot;: &quot;88195d2963fffff&quot;, &quot;properties&quot;: {&quot;order_gk&quot;: 3}, &quot;type&quot;: &quot;Feature&quot;}, {&quot;geometry&quot;: {&quot;coordinates&quot;: [[[-0.905069, 51.431038], [-0.911795, 51.429792], [-0.912964, 51.425291], [-0.907407, 51.422036], [-0.900681, 51.423281], [-0.899512, 51.427782], [-0.905069, 51.431038]]], &quot;type&quot;: &quot;Polygon&quot;}, &quot;id&quot;: &quot;88195d2a33fffff&quot;, &quot;properties&quot;: {&quot;order_gk&quot;: 3}, &quot;type&quot;: &quot;Feature&quot;}, {&quot;geometry&quot;: {&quot;coordinates&quot;: [[[-0.961216, 51.412055], [-0.967943, 51.410806], [-0.969108, 51.406302], [-0.963546, 51.403049], [-0.956821, 51.404298], [-0.955656, 51.408801], [-0.961216, 51.412055]]], &quot;type&quot;: &quot;Polygon&quot;}, &quot;id&quot;: &quot;88195d2807fffff&quot;, &quot;properties&quot;: {&quot;order_gk&quot;: 3}, &quot;type&quot;: &quot;Feature&quot;}, {&quot;geometry&quot;: {&quot;coordinates&quot;: [[[-0.914731, 51.467803], [-0.921462, 51.466559], [-0.922631, 51.462059], [-0.91707, 51.458804], [-0.910339, 51.460049], [-0.909169, 51.464548], [-0.914731, 51.467803]]], &quot;type&quot;: &quot;Polygon&quot;}, &quot;id&quot;: &quot;88195d2a63fffff&quot;, &quot;properties&quot;: {&quot;order_gk&quot;: 4}, &quot;type&quot;: &quot;Feature&quot;}, {&quot;geometry&quot;: {&quot;coordinates&quot;: [[[-0.890148, 51.46378], [-0.896878, 51.462537], [-0.898049, 51.458038], [-0.89249, 51.454782], [-0.885761, 51.456025], [-0.88459, 51.460524], [-0.890148, 51.46378]]], &quot;type&quot;: &quot;Polygon&quot;}, &quot;id&quot;: &quot;88195d2a09fffff&quot;, &quot;properties&quot;: {&quot;order_gk&quot;: 4}, &quot;type&quot;: &quot;Feature&quot;}, {&quot;geometry&quot;: {&quot;coordinates&quot;: [[[-0.964825, 51.497089], [-0.971561, 51.495842], [-0.972727, 51.491342], [-0.967158, 51.48809], [-0.960422, 51.489336], [-0.959255, 51.493836], [-0.964825, 51.497089]]], &quot;type&quot;: &quot;Polygon&quot;}, &quot;id&quot;: &quot;88195d2b49fffff&quot;, &quot;properties&quot;: {&quot;order_gk&quot;: 4}, &quot;type&quot;: &quot;Feature&quot;}, {&quot;geometry&quot;: {&quot;coordinates&quot;: [[[-0.885761, 51.456025], [-0.89249, 51.454782], [-0.893661, 51.450283], [-0.888103, 51.447027], [-0.881375, 51.44827], [-0.880204, 51.452769], [-0.885761, 51.456025]]], &quot;type&quot;: &quot;Polygon&quot;}, &quot;id&quot;: &quot;88195d2a0bfffff&quot;, &quot;properties&quot;: {&quot;order_gk&quot;: 4}, &quot;type&quot;: &quot;Feature&quot;}, {&quot;geometry&quot;: {&quot;coordinates&quot;: [[[-0.876991, 51.440514], [-0.883718, 51.439271], [-0.884888, 51.434771], [-0.879333, 51.431515], [-0.872607, 51.432759], [-0.871436, 51.437258], [-0.876991, 51.440514]]], &quot;type&quot;: &quot;Polygon&quot;}, &quot;id&quot;: &quot;88195d2a11fffff&quot;, &quot;properties&quot;: {&quot;order_gk&quot;: 4}, &quot;type&quot;: &quot;Feature&quot;}, {&quot;geometry&quot;: {&quot;coordinates&quot;: [[[-0.977132, 51.499095], [-0.98387, 51.497848], [-0.985035, 51.493348], [-0.979464, 51.490095], [-0.972727, 51.491342], [-0.971561, 51.495842], [-0.977132, 51.499095]]], &quot;type&quot;: &quot;Polygon&quot;}, &quot;id&quot;: &quot;88195d2b4dfffff&quot;, &quot;properties&quot;: {&quot;order_gk&quot;: 4}, &quot;type&quot;: &quot;Feature&quot;}, {&quot;geometry&quot;: {&quot;coordinates&quot;: [[[-1.068418, 51.443563], [-1.075152, 51.442308], [-1.07631, 51.437803], [-1.070735, 51.434553], [-1.064002, 51.435808], [-1.062843, 51.440313], [-1.068418, 51.443563]]], &quot;type&quot;: &quot;Polygon&quot;}, &quot;id&quot;: &quot;88195d2967fffff&quot;, &quot;properties&quot;: {&quot;order_gk&quot;: 4}, &quot;type&quot;: &quot;Feature&quot;}, {&quot;geometry&quot;: {&quot;coordinates&quot;: [[[-1.000837, 51.481849], [-1.007573, 51.4806], [-1.008736, 51.476098], [-1.003164, 51.472847], [-0.996429, 51.474096], [-0.995265, 51.478597], [-1.000837, 51.481849]]], &quot;type&quot;: &quot;Polygon&quot;}, &quot;id&quot;: &quot;88195d2b63fffff&quot;, &quot;properties&quot;: {&quot;order_gk&quot;: 4}, &quot;type&quot;: &quot;Feature&quot;}, {&quot;geometry&quot;: {&quot;coordinates&quot;: [[[-0.912964, 51.425291], [-0.919691, 51.424045], [-0.920859, 51.419544], [-0.915301, 51.416289], [-0.908576, 51.417535], [-0.907407, 51.422036], [-0.912964, 51.425291]]], &quot;type&quot;: &quot;Polygon&quot;}, &quot;id&quot;: &quot;88195d2859fffff&quot;, &quot;properties&quot;: {&quot;order_gk&quot;: 4}, &quot;type&quot;: &quot;Feature&quot;}, {&quot;geometry&quot;: {&quot;coordinates&quot;: [[[-0.906829, 51.473546], [-0.913561, 51.472302], [-0.914731, 51.467803], [-0.909169, 51.464548], [-0.902439, 51.465792], [-0.901268, 51.470291], [-0.906829, 51.473546]]], &quot;type&quot;: &quot;Polygon&quot;}, &quot;id&quot;: &quot;88195d2a6bfffff&quot;, &quot;properties&quot;: {&quot;order_gk&quot;: 4}, &quot;type&quot;: &quot;Feature&quot;}, {&quot;geometry&quot;: {&quot;coordinates&quot;: [[[-0.87786, 51.461767], [-0.88459, 51.460524], [-0.885761, 51.456025], [-0.880204, 51.452769], [-0.873475, 51.454012], [-0.872303, 51.45851], [-0.87786, 51.461767]]], &quot;type&quot;: &quot;Polygon&quot;}, &quot;id&quot;: &quot;88195d2a55fffff&quot;, &quot;properties&quot;: {&quot;order_gk&quot;: 4}, &quot;type&quot;: &quot;Feature&quot;}, {&quot;geometry&quot;: {&quot;coordinates&quot;: [[[-0.898927, 51.479288], [-0.905659, 51.478045], [-0.906829, 51.473546], [-0.901268, 51.470291], [-0.894537, 51.471534], [-0.893366, 51.476033], [-0.898927, 51.479288]]], &quot;type&quot;: &quot;Polygon&quot;}, &quot;id&quot;: &quot;88195d2a45fffff&quot;, &quot;properties&quot;: {&quot;order_gk&quot;: 5}, &quot;type&quot;: &quot;Feature&quot;}, {&quot;geometry&quot;: {&quot;coordinates&quot;: [[[-1.057047, 51.462834], [-1.063783, 51.46158], [-1.064942, 51.457076], [-1.059366, 51.453826], [-1.052631, 51.45508], [-1.051472, 51.459584], [-1.057047, 51.462834]]], &quot;type&quot;: &quot;Polygon&quot;}, &quot;id&quot;: &quot;88195d7497fffff&quot;, &quot;properties&quot;: {&quot;order_gk&quot;: 5}, &quot;type&quot;: &quot;Feature&quot;}, {&quot;geometry&quot;: {&quot;coordinates&quot;: [[[-1.011305, 51.44133], [-1.018036, 51.440078], [-1.019198, 51.435575], [-1.013629, 51.432323], [-1.006898, 51.433575], [-1.005736, 51.438078], [-1.011305, 51.44133]]], &quot;type&quot;: &quot;Polygon&quot;}, &quot;id&quot;: &quot;88195d295dfffff&quot;, &quot;properties&quot;: {&quot;order_gk&quot;: 5}, &quot;type&quot;: &quot;Feature&quot;}, {&quot;geometry&quot;: {&quot;coordinates&quot;: [[[-0.892785, 51.429027], [-0.899512, 51.427782], [-0.900681, 51.423281], [-0.895125, 51.420026], [-0.8884, 51.421271], [-0.88723, 51.425771], [-0.892785, 51.429027]]], &quot;type&quot;: &quot;Polygon&quot;}, &quot;id&quot;: &quot;88195d2aedfffff&quot;, &quot;properties&quot;: {&quot;order_gk&quot;: 5}, &quot;type&quot;: &quot;Feature&quot;}, {&quot;geometry&quot;: {&quot;coordinates&quot;: [[[-1.03684, 51.466592], [-1.043576, 51.46534], [-1.044737, 51.460837], [-1.039162, 51.457586], [-1.032428, 51.458838], [-1.031267, 51.463341], [-1.03684, 51.466592]]], &quot;type&quot;: &quot;Polygon&quot;}, &quot;id&quot;: &quot;88195d749bfffff&quot;, &quot;properties&quot;: {&quot;order_gk&quot;: 6}, &quot;type&quot;: &quot;Feature&quot;}, {&quot;geometry&quot;: {&quot;coordinates&quot;: [[[-0.909457, 51.438794], [-0.916185, 51.437548], [-0.917354, 51.433047], [-0.911795, 51.429792], [-0.905069, 51.431038], [-0.903899, 51.435538], [-0.909457, 51.438794]]], &quot;type&quot;: &quot;Polygon&quot;}, &quot;id&quot;: &quot;88195d2a31fffff&quot;, &quot;properties&quot;: {&quot;order_gk&quot;: 6}, &quot;type&quot;: &quot;Feature&quot;}, {&quot;geometry&quot;: {&quot;coordinates&quot;: [[[-0.965613, 51.419812], [-0.972341, 51.418562], [-0.973505, 51.414059], [-0.967943, 51.410806], [-0.961216, 51.412055], [-0.960051, 51.416558], [-0.965613, 51.419812]]], &quot;type&quot;: &quot;Polygon&quot;}, &quot;id&quot;: &quot;88195d2805fffff&quot;, &quot;properties&quot;: {&quot;order_gk&quot;: 7}, &quot;type&quot;: &quot;Feature&quot;}, {&quot;geometry&quot;: {&quot;coordinates&quot;: [[[-0.936645, 51.408045], [-0.94337, 51.406796], [-0.944536, 51.402293], [-0.938978, 51.399039], [-0.932254, 51.400287], [-0.931087, 51.40479], [-0.936645, 51.408045]]], &quot;type&quot;: &quot;Polygon&quot;}, &quot;id&quot;: &quot;88195d281dfffff&quot;, &quot;properties&quot;: {&quot;order_gk&quot;: 7}, &quot;type&quot;: &quot;Feature&quot;}, {&quot;geometry&quot;: {&quot;coordinates&quot;: [[[-0.902439, 51.465792], [-0.909169, 51.464548], [-0.910339, 51.460049], [-0.904779, 51.456794], [-0.898049, 51.458038], [-0.896878, 51.462537], [-0.902439, 51.465792]]], &quot;type&quot;: &quot;Polygon&quot;}, &quot;id&quot;: &quot;88195d2a0dfffff&quot;, &quot;properties&quot;: {&quot;order_gk&quot;: 7}, &quot;type&quot;: &quot;Feature&quot;}, {&quot;geometry&quot;: {&quot;coordinates&quot;: [[[-0.919124, 51.475557], [-0.925857, 51.474313], [-0.927025, 51.469813], [-0.921462, 51.466559], [-0.914731, 51.467803], [-0.913561, 51.472302], [-0.919124, 51.475557]]], &quot;type&quot;: &quot;Polygon&quot;}, &quot;id&quot;: &quot;88195d2a61fffff&quot;, &quot;properties&quot;: {&quot;order_gk&quot;: 7}, &quot;type&quot;: &quot;Feature&quot;}, {&quot;geometry&quot;: {&quot;coordinates&quot;: [[[-0.972727, 51.491342], [-0.979464, 51.490095], [-0.980629, 51.485595], [-0.975059, 51.482342], [-0.968324, 51.48359], [-0.967158, 51.48809], [-0.972727, 51.491342]]], &quot;type&quot;: &quot;Polygon&quot;}, &quot;id&quot;: &quot;88195d2b41fffff&quot;, &quot;properties&quot;: {&quot;order_gk&quot;: 8}, &quot;type&quot;: &quot;Feature&quot;}, {&quot;geometry&quot;: {&quot;coordinates&quot;: [[[-0.94893, 51.41005], [-0.955656, 51.408801], [-0.956821, 51.404298], [-0.951261, 51.401044], [-0.944536, 51.402293], [-0.94337, 51.406796], [-0.94893, 51.41005]]], &quot;type&quot;: &quot;Polygon&quot;}, &quot;id&quot;: &quot;88195d2803fffff&quot;, &quot;properties&quot;: {&quot;order_gk&quot;: 9}, &quot;type&quot;: &quot;Feature&quot;}, {&quot;geometry&quot;: {&quot;coordinates&quot;: [[[-1.041255, 51.474346], [-1.047991, 51.473093], [-1.049151, 51.46859], [-1.043576, 51.46534], [-1.03684, 51.466592], [-1.035679, 51.471095], [-1.041255, 51.474346]]], &quot;type&quot;: &quot;Polygon&quot;}, &quot;id&quot;: &quot;88195d7499fffff&quot;, &quot;properties&quot;: {&quot;order_gk&quot;: 9}, &quot;type&quot;: &quot;Feature&quot;}, {&quot;geometry&quot;: {&quot;coordinates&quot;: [[[-0.981396, 51.408305], [-0.988123, 51.407054], [-0.989286, 51.402549], [-0.983723, 51.399296], [-0.976998, 51.400548], [-0.975834, 51.405052], [-0.981396, 51.408305]]], &quot;type&quot;: &quot;Polygon&quot;}, &quot;id&quot;: &quot;88195d2823fffff&quot;, &quot;properties&quot;: {&quot;order_gk&quot;: 9}, &quot;type&quot;: &quot;Feature&quot;}, {&quot;geometry&quot;: {&quot;coordinates&quot;: [[[-0.947222, 51.466076], [-0.953955, 51.464829], [-0.955121, 51.460328], [-0.949556, 51.457075], [-0.942825, 51.458321], [-0.941657, 51.462822], [-0.947222, 51.466076]]], &quot;type&quot;: &quot;Polygon&quot;}, &quot;id&quot;: &quot;88195d2b53fffff&quot;, &quot;properties&quot;: {&quot;order_gk&quot;: 10}, &quot;type&quot;: &quot;Feature&quot;}, {&quot;geometry&quot;: {&quot;coordinates&quot;: [[[-0.872607, 51.432759], [-0.879333, 51.431515], [-0.880504, 51.427015], [-0.87495, 51.423759], [-0.868225, 51.425002], [-0.867054, 51.429502], [-0.872607, 51.432759]]], &quot;type&quot;: &quot;Polygon&quot;}, &quot;id&quot;: &quot;88195d2a13fffff&quot;, &quot;properties&quot;: {&quot;order_gk&quot;: 10}, &quot;type&quot;: &quot;Feature&quot;}, {&quot;geometry&quot;: {&quot;coordinates&quot;: [[[-1.040323, 51.453083], [-1.047057, 51.45183], [-1.048217, 51.447326], [-1.042644, 51.444075], [-1.035911, 51.445328], [-1.03475, 51.449832], [-1.040323, 51.453083]]], &quot;type&quot;: &quot;Polygon&quot;}, &quot;id&quot;: &quot;88195d2945fffff&quot;, &quot;properties&quot;: {&quot;order_gk&quot;: 11}, &quot;type&quot;: &quot;Feature&quot;}, {&quot;geometry&quot;: {&quot;coordinates&quot;: [[[-0.941037, 51.415802], [-0.947764, 51.414553], [-0.94893, 51.41005], [-0.94337, 51.406796], [-0.936645, 51.408045], [-0.935478, 51.412547], [-0.941037, 51.415802]]], &quot;type&quot;: &quot;Polygon&quot;}, &quot;id&quot;: &quot;88195d280bfffff&quot;, &quot;properties&quot;: {&quot;order_gk&quot;: 11}, &quot;type&quot;: &quot;Feature&quot;}, {&quot;geometry&quot;: {&quot;coordinates&quot;: [[[-0.898049, 51.458038], [-0.904779, 51.456794], [-0.905949, 51.452294], [-0.90039, 51.449039], [-0.893661, 51.450283], [-0.89249, 51.454782], [-0.898049, 51.458038]]], &quot;type&quot;: &quot;Polygon&quot;}, &quot;id&quot;: &quot;88195d2a01fffff&quot;, &quot;properties&quot;: {&quot;order_gk&quot;: 12}, &quot;type&quot;: &quot;Feature&quot;}, {&quot;geometry&quot;: {&quot;coordinates&quot;: [[[-0.94372, 51.479576], [-0.950454, 51.47833], [-0.951621, 51.47383], [-0.946055, 51.470576], [-0.939322, 51.471822], [-0.938154, 51.476322], [-0.94372, 51.479576]]], &quot;type&quot;: &quot;Polygon&quot;}, &quot;id&quot;: &quot;88195d2b59fffff&quot;, &quot;properties&quot;: {&quot;order_gk&quot;: 13}, &quot;type&quot;: &quot;Feature&quot;}, {&quot;geometry&quot;: {&quot;coordinates&quot;: [[[-1.028943, 51.472347], [-1.035679, 51.471095], [-1.03684, 51.466592], [-1.031267, 51.463341], [-1.024532, 51.464593], [-1.02337, 51.469095], [-1.028943, 51.472347]]], &quot;type&quot;: &quot;Polygon&quot;}, &quot;id&quot;: &quot;88195d2b25fffff&quot;, &quot;properties&quot;: {&quot;order_gk&quot;: 13}, &quot;type&quot;: &quot;Feature&quot;}, {&quot;geometry&quot;: {&quot;coordinates&quot;: [[[-0.927025, 51.469813], [-0.933758, 51.468568], [-0.934926, 51.464068], [-0.929362, 51.460814], [-0.922631, 51.462059], [-0.921462, 51.466559], [-0.927025, 51.469813]]], &quot;type&quot;: &quot;Polygon&quot;}, &quot;id&quot;: &quot;88195d2a67fffff&quot;, &quot;properties&quot;: {&quot;order_gk&quot;: 14}, &quot;type&quot;: &quot;Feature&quot;}, {&quot;geometry&quot;: {&quot;coordinates&quot;: [[[-0.893661, 51.450283], [-0.90039, 51.449039], [-0.90156, 51.444539], [-0.896002, 51.441283], [-0.889274, 51.442527], [-0.888103, 51.447027], [-0.893661, 51.450283]]], &quot;type&quot;: &quot;Polygon&quot;}, &quot;id&quot;: &quot;88195d2a03fffff&quot;, &quot;properties&quot;: {&quot;order_gk&quot;: 14}, &quot;type&quot;: &quot;Feature&quot;}, {&quot;geometry&quot;: {&quot;coordinates&quot;: [[[-0.910339, 51.460049], [-0.91707, 51.458804], [-0.918239, 51.454304], [-0.912678, 51.451049], [-0.905949, 51.452294], [-0.904779, 51.456794], [-0.910339, 51.460049]]], &quot;type&quot;: &quot;Polygon&quot;}, &quot;id&quot;: &quot;88195d2a05fffff&quot;, &quot;properties&quot;: {&quot;order_gk&quot;: 15}, &quot;type&quot;: &quot;Feature&quot;}, {&quot;geometry&quot;: {&quot;coordinates&quot;: [[[-0.905949, 51.452294], [-0.912678, 51.451049], [-0.913847, 51.446549], [-0.908288, 51.443294], [-0.90156, 51.444539], [-0.90039, 51.449039], [-0.905949, 51.452294]]], &quot;type&quot;: &quot;Polygon&quot;}, &quot;id&quot;: &quot;88195d2a07fffff&quot;, &quot;properties&quot;: {&quot;order_gk&quot;: 16}, &quot;type&quot;: &quot;Feature&quot;}, {&quot;geometry&quot;: {&quot;coordinates&quot;: [[[-0.986707, 51.437327], [-0.993437, 51.436077], [-0.994601, 51.431573], [-0.989034, 51.428321], [-0.982305, 51.429571], [-0.981141, 51.434074], [-0.986707, 51.437327]]], &quot;type&quot;: &quot;Polygon&quot;}, &quot;id&quot;: &quot;88195d2865fffff&quot;, &quot;properties&quot;: {&quot;order_gk&quot;: 16}, &quot;type&quot;: &quot;Feature&quot;}, {&quot;geometry&quot;: {&quot;coordinates&quot;: [[[-1.035911, 51.445328], [-1.042644, 51.444075], [-1.043804, 51.439571], [-1.038232, 51.43632], [-1.0315, 51.437573], [-1.030339, 51.442077], [-1.035911, 51.445328]]], &quot;type&quot;: &quot;Polygon&quot;}, &quot;id&quot;: &quot;88195d2947fffff&quot;, &quot;properties&quot;: {&quot;order_gk&quot;: 17}, &quot;type&quot;: &quot;Feature&quot;}, {&quot;geometry&quot;: {&quot;coordinates&quot;: [[[-0.889274, 51.442527], [-0.896002, 51.441283], [-0.897172, 51.436783], [-0.891615, 51.433527], [-0.884888, 51.434771], [-0.883718, 51.439271], [-0.889274, 51.442527]]], &quot;type&quot;: &quot;Polygon&quot;}, &quot;id&quot;: &quot;88195d2a15fffff&quot;, &quot;properties&quot;: {&quot;order_gk&quot;: 17}, &quot;type&quot;: &quot;Feature&quot;}, {&quot;geometry&quot;: {&quot;coordinates&quot;: [[[-1.032428, 51.458838], [-1.039162, 51.457586], [-1.040323, 51.453083], [-1.03475, 51.449832], [-1.028017, 51.451084], [-1.026855, 51.455587], [-1.032428, 51.458838]]], &quot;type&quot;: &quot;Polygon&quot;}, &quot;id&quot;: &quot;88195d294dfffff&quot;, &quot;properties&quot;: {&quot;order_gk&quot;: 18}, &quot;type&quot;: &quot;Feature&quot;}, {&quot;geometry&quot;: {&quot;coordinates&quot;: [[[-0.956021, 51.481583], [-0.962755, 51.480336], [-0.963922, 51.475836], [-0.958354, 51.472583], [-0.951621, 51.47383], [-0.950454, 51.47833], [-0.956021, 51.481583]]], &quot;type&quot;: &quot;Polygon&quot;}, &quot;id&quot;: &quot;88195d2b5dfffff&quot;, &quot;properties&quot;: {&quot;order_gk&quot;: 18}, &quot;type&quot;: &quot;Feature&quot;}, {&quot;geometry&quot;: {&quot;coordinates&quot;: [[[-0.922631, 51.462059], [-0.929362, 51.460814], [-0.930531, 51.456313], [-0.924969, 51.453059], [-0.918239, 51.454304], [-0.91707, 51.458804], [-0.922631, 51.462059]]], &quot;type&quot;: &quot;Polygon&quot;}, &quot;id&quot;: &quot;88195d2a29fffff&quot;, &quot;properties&quot;: {&quot;order_gk&quot;: 18}, &quot;type&quot;: &quot;Feature&quot;}, {&quot;geometry&quot;: {&quot;coordinates&quot;: [[[-0.929641, 51.435056], [-0.936369, 51.433809], [-0.937537, 51.429308], [-0.931976, 51.426053], [-0.925249, 51.4273], [-0.924081, 51.431801], [-0.929641, 51.435056]]], &quot;type&quot;: &quot;Polygon&quot;}, &quot;id&quot;: &quot;88195d284bfffff&quot;, &quot;properties&quot;: {&quot;order_gk&quot;: 18}, &quot;type&quot;: &quot;Feature&quot;}, {&quot;geometry&quot;: {&quot;coordinates&quot;: [[[-1.016634, 51.470346], [-1.02337, 51.469095], [-1.024532, 51.464593], [-1.018959, 51.461342], [-1.012225, 51.462593], [-1.011062, 51.467095], [-1.016634, 51.470346]]], &quot;type&quot;: &quot;Polygon&quot;}, &quot;id&quot;: &quot;88195d2b21fffff&quot;, &quot;properties&quot;: {&quot;order_gk&quot;: 19}, &quot;type&quot;: &quot;Feature&quot;}, {&quot;geometry&quot;: {&quot;coordinates&quot;: [[[-0.960422, 51.489336], [-0.967158, 51.48809], [-0.968324, 51.48359], [-0.962755, 51.480336], [-0.956021, 51.481583], [-0.954854, 51.486083], [-0.960422, 51.489336]]], &quot;type&quot;: &quot;Polygon&quot;}, &quot;id&quot;: &quot;88195d2b4bfffff&quot;, &quot;properties&quot;: {&quot;order_gk&quot;: 19}, &quot;type&quot;: &quot;Feature&quot;}, {&quot;geometry&quot;: {&quot;coordinates&quot;: [[[-0.992936, 51.487599], [-0.999673, 51.48635], [-1.000837, 51.481849], [-0.995265, 51.478597], [-0.98853, 51.479846], [-0.987365, 51.484347], [-0.992936, 51.487599]]], &quot;type&quot;: &quot;Polygon&quot;}, &quot;id&quot;: &quot;88195d2b6bfffff&quot;, &quot;properties&quot;: {&quot;order_gk&quot;: 21}, &quot;type&quot;: &quot;Feature&quot;}, {&quot;geometry&quot;: {&quot;coordinates&quot;: [[[-0.969108, 51.406302], [-0.975834, 51.405052], [-0.976998, 51.400548], [-0.971436, 51.397294], [-0.964711, 51.398545], [-0.963546, 51.403049], [-0.969108, 51.406302]]], &quot;type&quot;: &quot;Polygon&quot;}, &quot;id&quot;: &quot;88195d283dfffff&quot;, &quot;properties&quot;: {&quot;order_gk&quot;: 21}, &quot;type&quot;: &quot;Feature&quot;}, {&quot;geometry&quot;: {&quot;coordinates&quot;: [[[-0.945431, 51.423558], [-0.952158, 51.42231], [-0.953324, 51.417807], [-0.947764, 51.414553], [-0.941037, 51.415802], [-0.939871, 51.420304], [-0.945431, 51.423558]]], &quot;type&quot;: &quot;Polygon&quot;}, &quot;id&quot;: &quot;88195d2809fffff&quot;, &quot;properties&quot;: {&quot;order_gk&quot;: 22}, &quot;type&quot;: &quot;Feature&quot;}, {&quot;geometry&quot;: {&quot;coordinates&quot;: [[[-0.934926, 51.464068], [-0.941657, 51.462822], [-0.942825, 51.458321], [-0.937261, 51.455067], [-0.930531, 51.456313], [-0.929362, 51.460814], [-0.934926, 51.464068]]], &quot;type&quot;: &quot;Polygon&quot;}, &quot;id&quot;: &quot;88195d2a2dfffff&quot;, &quot;properties&quot;: {&quot;order_gk&quot;: 22}, &quot;type&quot;: &quot;Feature&quot;}, {&quot;geometry&quot;: {&quot;coordinates&quot;: [[[-1.008736, 51.476098], [-1.015472, 51.474848], [-1.016634, 51.470346], [-1.011062, 51.467095], [-1.004328, 51.468345], [-1.003164, 51.472847], [-1.008736, 51.476098]]], &quot;type&quot;: &quot;Polygon&quot;}, &quot;id&quot;: &quot;88195d2b29fffff&quot;, &quot;properties&quot;: {&quot;order_gk&quot;: 23}, &quot;type&quot;: &quot;Feature&quot;}, {&quot;geometry&quot;: {&quot;coordinates&quot;: [[[-1.044737, 51.460837], [-1.051472, 51.459584], [-1.052631, 51.45508], [-1.047057, 51.45183], [-1.040323, 51.453083], [-1.039162, 51.457586], [-1.044737, 51.460837]]], &quot;type&quot;: &quot;Polygon&quot;}, &quot;id&quot;: &quot;88195d7493fffff&quot;, &quot;properties&quot;: {&quot;order_gk&quot;: 23}, &quot;type&quot;: &quot;Feature&quot;}, {&quot;geometry&quot;: {&quot;coordinates&quot;: [[[-0.994601, 51.431573], [-1.00133, 51.430322], [-1.002493, 51.425819], [-0.996927, 51.422567], [-0.990198, 51.423818], [-0.989034, 51.428321], [-0.994601, 51.431573]]], &quot;type&quot;: &quot;Polygon&quot;}, &quot;id&quot;: &quot;88195d295bfffff&quot;, &quot;properties&quot;: {&quot;order_gk&quot;: 26}, &quot;type&quot;: &quot;Feature&quot;}, {&quot;geometry&quot;: {&quot;coordinates&quot;: [[[-1.028017, 51.451084], [-1.03475, 51.449832], [-1.035911, 51.445328], [-1.030339, 51.442077], [-1.023607, 51.44333], [-1.022445, 51.447833], [-1.028017, 51.451084]]], &quot;type&quot;: &quot;Polygon&quot;}, &quot;id&quot;: &quot;88195d2941fffff&quot;, &quot;properties&quot;: {&quot;order_gk&quot;: 27}, &quot;type&quot;: &quot;Feature&quot;}, {&quot;geometry&quot;: {&quot;coordinates&quot;: [[[-0.953324, 51.417807], [-0.960051, 51.416558], [-0.961216, 51.412055], [-0.955656, 51.408801], [-0.94893, 51.41005], [-0.947764, 51.414553], [-0.953324, 51.417807]]], &quot;type&quot;: &quot;Polygon&quot;}, &quot;id&quot;: &quot;88195d2801fffff&quot;, &quot;properties&quot;: {&quot;order_gk&quot;: 28}, &quot;type&quot;: &quot;Feature&quot;}, {&quot;geometry&quot;: {&quot;coordinates&quot;: [[[-0.884888, 51.434771], [-0.891615, 51.433527], [-0.892785, 51.429027], [-0.88723, 51.425771], [-0.880504, 51.427015], [-0.879333, 51.431515], [-0.884888, 51.434771]]], &quot;type&quot;: &quot;Polygon&quot;}, &quot;id&quot;: &quot;88195d2a17fffff&quot;, &quot;properties&quot;: {&quot;order_gk&quot;: 29}, &quot;type&quot;: &quot;Feature&quot;}, {&quot;geometry&quot;: {&quot;coordinates&quot;: [[[-1.048217, 51.447326], [-1.054951, 51.446072], [-1.05611, 51.441568], [-1.050536, 51.438317], [-1.043804, 51.439571], [-1.042644, 51.444075], [-1.048217, 51.447326]]], &quot;type&quot;: &quot;Polygon&quot;}, &quot;id&quot;: &quot;88195d296bfffff&quot;, &quot;properties&quot;: {&quot;order_gk&quot;: 30}, &quot;type&quot;: &quot;Feature&quot;}, {&quot;geometry&quot;: {&quot;coordinates&quot;: [[[-1.004328, 51.468345], [-1.011062, 51.467095], [-1.012225, 51.462593], [-1.006654, 51.459341], [-0.99992, 51.460591], [-0.998757, 51.465093], [-1.004328, 51.468345]]], &quot;type&quot;: &quot;Polygon&quot;}, &quot;id&quot;: &quot;88195d2b2bfffff&quot;, &quot;properties&quot;: {&quot;order_gk&quot;: 30}, &quot;type&quot;: &quot;Feature&quot;}, {&quot;geometry&quot;: {&quot;coordinates&quot;: [[[-1.020121, 51.456839], [-1.026855, 51.455587], [-1.028017, 51.451084], [-1.022445, 51.447833], [-1.015712, 51.449085], [-1.01455, 51.453588], [-1.020121, 51.456839]]], &quot;type&quot;: &quot;Polygon&quot;}, &quot;id&quot;: &quot;88195d2949fffff&quot;, &quot;properties&quot;: {&quot;order_gk&quot;: 31}, &quot;type&quot;: &quot;Feature&quot;}, {&quot;geometry&quot;: {&quot;coordinates&quot;: [[[-0.925249, 51.4273], [-0.931976, 51.426053], [-0.933144, 51.421551], [-0.927585, 51.418297], [-0.920859, 51.419544], [-0.919691, 51.424045], [-0.925249, 51.4273]]], &quot;type&quot;: &quot;Polygon&quot;}, &quot;id&quot;: &quot;88195d285dfffff&quot;, &quot;properties&quot;: {&quot;order_gk&quot;: 32}, &quot;type&quot;: &quot;Feature&quot;}, {&quot;geometry&quot;: {&quot;coordinates&quot;: [[[-1.023607, 51.44333], [-1.030339, 51.442077], [-1.0315, 51.437573], [-1.025929, 51.434322], [-1.019198, 51.435575], [-1.018036, 51.440078], [-1.023607, 51.44333]]], &quot;type&quot;: &quot;Polygon&quot;}, &quot;id&quot;: &quot;88195d2943fffff&quot;, &quot;properties&quot;: {&quot;order_gk&quot;: 32}, &quot;type&quot;: &quot;Feature&quot;}, {&quot;geometry&quot;: {&quot;coordinates&quot;: [[[-0.913847, 51.446549], [-0.920576, 51.445304], [-0.921745, 51.440803], [-0.916185, 51.437548], [-0.909457, 51.438794], [-0.908288, 51.443294], [-0.913847, 51.446549]]], &quot;type&quot;: &quot;Polygon&quot;}, &quot;id&quot;: &quot;88195d2a3dfffff&quot;, &quot;properties&quot;: {&quot;order_gk&quot;: 33}, &quot;type&quot;: &quot;Feature&quot;}, {&quot;geometry&quot;: {&quot;coordinates&quot;: [[[-0.948119, 51.487329], [-0.954854, 51.486083], [-0.956021, 51.481583], [-0.950454, 51.47833], [-0.94372, 51.479576], [-0.942552, 51.484075], [-0.948119, 51.487329]]], &quot;type&quot;: &quot;Polygon&quot;}, &quot;id&quot;: &quot;88195d39b7fffff&quot;, &quot;properties&quot;: {&quot;order_gk&quot;: 34}, &quot;type&quot;: &quot;Feature&quot;}, {&quot;geometry&quot;: {&quot;coordinates&quot;: [[[-0.911222, 51.4813], [-0.917955, 51.480056], [-0.919124, 51.475557], [-0.913561, 51.472302], [-0.906829, 51.473546], [-0.905659, 51.478045], [-0.911222, 51.4813]]], &quot;type&quot;: &quot;Polygon&quot;}, &quot;id&quot;: &quot;88195d2a69fffff&quot;, &quot;properties&quot;: {&quot;order_gk&quot;: 38}, &quot;type&quot;: &quot;Feature&quot;}, {&quot;geometry&quot;: {&quot;coordinates&quot;: [[[-0.90156, 51.444539], [-0.908288, 51.443294], [-0.909457, 51.438794], [-0.903899, 51.435538], [-0.897172, 51.436783], [-0.896002, 51.441283], [-0.90156, 51.444539]]], &quot;type&quot;: &quot;Polygon&quot;}, &quot;id&quot;: &quot;88195d2a39fffff&quot;, &quot;properties&quot;: {&quot;order_gk&quot;: 38}, &quot;type&quot;: &quot;Feature&quot;}, {&quot;geometry&quot;: {&quot;coordinates&quot;: [[[-0.978812, 51.443079], [-0.985543, 51.441829], [-0.986707, 51.437327], [-0.981141, 51.434074], [-0.974411, 51.435324], [-0.973246, 51.439826], [-0.978812, 51.443079]]], &quot;type&quot;: &quot;Polygon&quot;}, &quot;id&quot;: &quot;88195d286dfffff&quot;, &quot;properties&quot;: {&quot;order_gk&quot;: 41}, &quot;type&quot;: &quot;Feature&quot;}, {&quot;geometry&quot;: {&quot;coordinates&quot;: [[[-0.99111, 51.445082], [-0.997841, 51.443832], [-0.999005, 51.439329], [-0.993437, 51.436077], [-0.986707, 51.437327], [-0.985543, 51.441829], [-0.99111, 51.445082]]], &quot;type&quot;: &quot;Polygon&quot;}, &quot;id&quot;: &quot;88195d2b33fffff&quot;, &quot;properties&quot;: {&quot;order_gk&quot;: 41}, &quot;type&quot;: &quot;Feature&quot;}, {&quot;geometry&quot;: {&quot;coordinates&quot;: [[[-0.917354, 51.433047], [-0.924081, 51.431801], [-0.925249, 51.4273], [-0.919691, 51.424045], [-0.912964, 51.425291], [-0.911795, 51.429792], [-0.917354, 51.433047]]], &quot;type&quot;: &quot;Polygon&quot;}, &quot;id&quot;: &quot;88195d2a37fffff&quot;, &quot;properties&quot;: {&quot;order_gk&quot;: 43}, &quot;type&quot;: &quot;Feature&quot;}, {&quot;geometry&quot;: {&quot;coordinates&quot;: [[[-1.012225, 51.462593], [-1.018959, 51.461342], [-1.020121, 51.456839], [-1.01455, 51.453588], [-1.007817, 51.454838], [-1.006654, 51.459341], [-1.012225, 51.462593]]], &quot;type&quot;: &quot;Polygon&quot;}, &quot;id&quot;: &quot;88195d2b23fffff&quot;, &quot;properties&quot;: {&quot;order_gk&quot;: 51}, &quot;type&quot;: &quot;Feature&quot;}, {&quot;geometry&quot;: {&quot;coordinates&quot;: [[[-0.968324, 51.48359], [-0.975059, 51.482342], [-0.976224, 51.477842], [-0.970656, 51.474589], [-0.963922, 51.475836], [-0.962755, 51.480336], [-0.968324, 51.48359]]], &quot;type&quot;: &quot;Polygon&quot;}, &quot;id&quot;: &quot;88195d2b43fffff&quot;, &quot;properties&quot;: {&quot;order_gk&quot;: 54}, &quot;type&quot;: &quot;Feature&quot;}, {&quot;geometry&quot;: {&quot;coordinates&quot;: [[[-0.980629, 51.485595], [-0.987365, 51.484347], [-0.98853, 51.479846], [-0.982959, 51.476594], [-0.976224, 51.477842], [-0.975059, 51.482342], [-0.980629, 51.485595]]], &quot;type&quot;: &quot;Polygon&quot;}, &quot;id&quot;: &quot;88195d2b47fffff&quot;, &quot;properties&quot;: {&quot;order_gk&quot;: 54}, &quot;type&quot;: &quot;Feature&quot;}, {&quot;geometry&quot;: {&quot;coordinates&quot;: [[[-1.007817, 51.454838], [-1.01455, 51.453588], [-1.015712, 51.449085], [-1.010142, 51.445833], [-1.00341, 51.447084], [-1.002247, 51.451587], [-1.007817, 51.454838]]], &quot;type&quot;: &quot;Polygon&quot;}, &quot;id&quot;: &quot;88195d2b35fffff&quot;, &quot;properties&quot;: {&quot;order_gk&quot;: 56}, &quot;type&quot;: &quot;Feature&quot;}, {&quot;geometry&quot;: {&quot;coordinates&quot;: [[[-0.977904, 51.421815], [-0.984633, 51.420565], [-0.985796, 51.416061], [-0.980233, 51.412808], [-0.973505, 51.414059], [-0.972341, 51.418562], [-0.977904, 51.421815]]], &quot;type&quot;: &quot;Polygon&quot;}, &quot;id&quot;: &quot;88195d2829fffff&quot;, &quot;properties&quot;: {&quot;order_gk&quot;: 62}, &quot;type&quot;: &quot;Feature&quot;}, {&quot;geometry&quot;: {&quot;coordinates&quot;: [[[-0.95772, 51.425564], [-0.964448, 51.424315], [-0.965613, 51.419812], [-0.960051, 51.416558], [-0.953324, 51.417807], [-0.952158, 51.42231], [-0.95772, 51.425564]]], &quot;type&quot;: &quot;Polygon&quot;}, &quot;id&quot;: &quot;88195d280dfffff&quot;, &quot;properties&quot;: {&quot;order_gk&quot;: 69}, &quot;type&quot;: &quot;Feature&quot;}, {&quot;geometry&quot;: {&quot;coordinates&quot;: [[[-0.984124, 51.472093], [-0.990859, 51.470844], [-0.992023, 51.466343], [-0.986453, 51.46309], [-0.97972, 51.464339], [-0.978555, 51.46884], [-0.984124, 51.472093]]], &quot;type&quot;: &quot;Polygon&quot;}, &quot;id&quot;: &quot;88195d2b01fffff&quot;, &quot;properties&quot;: {&quot;order_gk&quot;: 72}, &quot;type&quot;: &quot;Feature&quot;}, {&quot;geometry&quot;: {&quot;coordinates&quot;: [[[-1.015712, 51.449085], [-1.022445, 51.447833], [-1.023607, 51.44333], [-1.018036, 51.440078], [-1.011305, 51.44133], [-1.010142, 51.445833], [-1.015712, 51.449085]]], &quot;type&quot;: &quot;Polygon&quot;}, &quot;id&quot;: &quot;88195d294bfffff&quot;, &quot;properties&quot;: {&quot;order_gk&quot;: 75}, &quot;type&quot;: &quot;Feature&quot;}, {&quot;geometry&quot;: {&quot;coordinates&quot;: [[[-0.962117, 51.433319], [-0.968847, 51.432071], [-0.970012, 51.427568], [-0.964448, 51.424315], [-0.95772, 51.425564], [-0.956554, 51.430066], [-0.962117, 51.433319]]], &quot;type&quot;: &quot;Polygon&quot;}, &quot;id&quot;: &quot;88195d286bfffff&quot;, &quot;properties&quot;: {&quot;order_gk&quot;: 81}, &quot;type&quot;: &quot;Feature&quot;}, {&quot;geometry&quot;: {&quot;coordinates&quot;: [[[-0.990198, 51.423818], [-0.996927, 51.422567], [-0.99809, 51.418063], [-0.992524, 51.41481], [-0.985796, 51.416061], [-0.984633, 51.420565], [-0.990198, 51.423818]]], &quot;type&quot;: &quot;Polygon&quot;}, &quot;id&quot;: &quot;88195d282dfffff&quot;, &quot;properties&quot;: {&quot;order_gk&quot;: 84}, &quot;type&quot;: &quot;Feature&quot;}, {&quot;geometry&quot;: {&quot;coordinates&quot;: [[[-0.982305, 51.429571], [-0.989034, 51.428321], [-0.990198, 51.423818], [-0.984633, 51.420565], [-0.977904, 51.421815], [-0.97674, 51.426318], [-0.982305, 51.429571]]], &quot;type&quot;: &quot;Polygon&quot;}, &quot;id&quot;: &quot;88195d2867fffff&quot;, &quot;properties&quot;: {&quot;order_gk&quot;: 89}, &quot;type&quot;: &quot;Feature&quot;}, {&quot;geometry&quot;: {&quot;coordinates&quot;: [[[-1.00341, 51.447084], [-1.010142, 51.445833], [-1.011305, 51.44133], [-1.005736, 51.438078], [-0.999005, 51.439329], [-0.997841, 51.443832], [-1.00341, 51.447084]]], &quot;type&quot;: &quot;Polygon&quot;}, &quot;id&quot;: &quot;88195d2b37fffff&quot;, &quot;properties&quot;: {&quot;order_gk&quot;: 90}, &quot;type&quot;: &quot;Feature&quot;}, {&quot;geometry&quot;: {&quot;coordinates&quot;: [[[-0.934034, 51.442812], [-0.940764, 51.441565], [-0.941931, 51.437063], [-0.936369, 51.433809], [-0.929641, 51.435056], [-0.928473, 51.439557], [-0.934034, 51.442812]]], &quot;type&quot;: &quot;Polygon&quot;}, &quot;id&quot;: &quot;88195d2849fffff&quot;, &quot;properties&quot;: {&quot;order_gk&quot;: 99}, &quot;type&quot;: &quot;Feature&quot;}, {&quot;geometry&quot;: {&quot;coordinates&quot;: [[[-0.918239, 51.454304], [-0.924969, 51.453059], [-0.926137, 51.448559], [-0.920576, 51.445304], [-0.913847, 51.446549], [-0.912678, 51.451049], [-0.918239, 51.454304]]], &quot;type&quot;: &quot;Polygon&quot;}, &quot;id&quot;: &quot;88195d2a2bfffff&quot;, &quot;properties&quot;: {&quot;order_gk&quot;: 103}, &quot;type&quot;: &quot;Feature&quot;}, {&quot;geometry&quot;: {&quot;coordinates&quot;: [[[-0.98853, 51.479846], [-0.995265, 51.478597], [-0.996429, 51.474096], [-0.990859, 51.470844], [-0.984124, 51.472093], [-0.982959, 51.476594], [-0.98853, 51.479846]]], &quot;type&quot;: &quot;Polygon&quot;}, &quot;id&quot;: &quot;88195d2b0dfffff&quot;, &quot;properties&quot;: {&quot;order_gk&quot;: 105}, &quot;type&quot;: &quot;Feature&quot;}, {&quot;geometry&quot;: {&quot;coordinates&quot;: [[[-0.992023, 51.466343], [-0.998757, 51.465093], [-0.99992, 51.460591], [-0.994351, 51.457339], [-0.987618, 51.458588], [-0.986453, 51.46309], [-0.992023, 51.466343]]], &quot;type&quot;: &quot;Polygon&quot;}, &quot;id&quot;: &quot;88195d2b07fffff&quot;, &quot;properties&quot;: {&quot;order_gk&quot;: 107}, &quot;type&quot;: &quot;Feature&quot;}, {&quot;geometry&quot;: {&quot;coordinates&quot;: [[[-0.937537, 51.429308], [-0.944264, 51.42806], [-0.945431, 51.423558], [-0.939871, 51.420304], [-0.933144, 51.421551], [-0.931976, 51.426053], [-0.937537, 51.429308]]], &quot;type&quot;: &quot;Polygon&quot;}, &quot;id&quot;: &quot;88195d2843fffff&quot;, &quot;properties&quot;: {&quot;order_gk&quot;: 114}, &quot;type&quot;: &quot;Feature&quot;}, {&quot;geometry&quot;: {&quot;coordinates&quot;: [[[-0.976224, 51.477842], [-0.982959, 51.476594], [-0.984124, 51.472093], [-0.978555, 51.46884], [-0.971821, 51.470088], [-0.970656, 51.474589], [-0.976224, 51.477842]]], &quot;type&quot;: &quot;Polygon&quot;}, &quot;id&quot;: &quot;88195d2b09fffff&quot;, &quot;properties&quot;: {&quot;order_gk&quot;: 116}, &quot;type&quot;: &quot;Feature&quot;}, {&quot;geometry&quot;: {&quot;coordinates&quot;: [[[-0.970012, 51.427568], [-0.97674, 51.426318], [-0.977904, 51.421815], [-0.972341, 51.418562], [-0.965613, 51.419812], [-0.964448, 51.424315], [-0.970012, 51.427568]]], &quot;type&quot;: &quot;Polygon&quot;}, &quot;id&quot;: &quot;88195d2863fffff&quot;, &quot;properties&quot;: {&quot;order_gk&quot;: 123}, &quot;type&quot;: &quot;Feature&quot;}, {&quot;geometry&quot;: {&quot;coordinates&quot;: [[[-0.949826, 51.431314], [-0.956554, 51.430066], [-0.95772, 51.425564], [-0.952158, 51.42231], [-0.945431, 51.423558], [-0.944264, 51.42806], [-0.949826, 51.431314]]], &quot;type&quot;: &quot;Polygon&quot;}, &quot;id&quot;: &quot;88195d2847fffff&quot;, &quot;properties&quot;: {&quot;order_gk&quot;: 131}, &quot;type&quot;: &quot;Feature&quot;}, {&quot;geometry&quot;: {&quot;coordinates&quot;: [[[-0.921745, 51.440803], [-0.928473, 51.439557], [-0.929641, 51.435056], [-0.924081, 51.431801], [-0.917354, 51.433047], [-0.916185, 51.437548], [-0.921745, 51.440803]]], &quot;type&quot;: &quot;Polygon&quot;}, &quot;id&quot;: &quot;88195d2a35fffff&quot;, &quot;properties&quot;: {&quot;order_gk&quot;: 136}, &quot;type&quot;: &quot;Feature&quot;}, {&quot;geometry&quot;: {&quot;coordinates&quot;: [[[-0.951621, 51.47383], [-0.958354, 51.472583], [-0.959521, 51.468083], [-0.953955, 51.464829], [-0.947222, 51.466076], [-0.946055, 51.470576], [-0.951621, 51.47383]]], &quot;type&quot;: &quot;Polygon&quot;}, &quot;id&quot;: &quot;88195d2b51fffff&quot;, &quot;properties&quot;: {&quot;order_gk&quot;: 152}, &quot;type&quot;: &quot;Feature&quot;}, {&quot;geometry&quot;: {&quot;coordinates&quot;: [[[-0.926137, 51.448559], [-0.932867, 51.447312], [-0.934034, 51.442812], [-0.928473, 51.439557], [-0.921745, 51.440803], [-0.920576, 51.445304], [-0.926137, 51.448559]]], &quot;type&quot;: &quot;Polygon&quot;}, &quot;id&quot;: &quot;88195d2a23fffff&quot;, &quot;properties&quot;: {&quot;order_gk&quot;: 157}, &quot;type&quot;: &quot;Feature&quot;}, {&quot;geometry&quot;: {&quot;coordinates&quot;: [[[-0.941931, 51.437063], [-0.94866, 51.435816], [-0.949826, 51.431314], [-0.944264, 51.42806], [-0.937537, 51.429308], [-0.936369, 51.433809], [-0.941931, 51.437063]]], &quot;type&quot;: &quot;Polygon&quot;}, &quot;id&quot;: &quot;88195d2841fffff&quot;, &quot;properties&quot;: {&quot;order_gk&quot;: 162}, &quot;type&quot;: &quot;Feature&quot;}, {&quot;geometry&quot;: {&quot;coordinates&quot;: [[[-0.963922, 51.475836], [-0.970656, 51.474589], [-0.971821, 51.470088], [-0.966254, 51.466835], [-0.959521, 51.468083], [-0.958354, 51.472583], [-0.963922, 51.475836]]], &quot;type&quot;: &quot;Polygon&quot;}, &quot;id&quot;: &quot;88195d2b55fffff&quot;, &quot;properties&quot;: {&quot;order_gk&quot;: 170}, &quot;type&quot;: &quot;Feature&quot;}, {&quot;geometry&quot;: {&quot;coordinates&quot;: [[[-0.959521, 51.468083], [-0.966254, 51.466835], [-0.96742, 51.462334], [-0.961853, 51.459081], [-0.955121, 51.460328], [-0.953955, 51.464829], [-0.959521, 51.468083]]], &quot;type&quot;: &quot;Polygon&quot;}, &quot;id&quot;: &quot;88195d2b57fffff&quot;, &quot;properties&quot;: {&quot;order_gk&quot;: 180}, &quot;type&quot;: &quot;Feature&quot;}, {&quot;geometry&quot;: {&quot;coordinates&quot;: [[[-0.983214, 51.450834], [-0.989946, 51.449584], [-0.99111, 51.445082], [-0.985543, 51.441829], [-0.978812, 51.443079], [-0.977647, 51.447581], [-0.983214, 51.450834]]], &quot;type&quot;: &quot;Polygon&quot;}, &quot;id&quot;: &quot;88195d2b3bfffff&quot;, &quot;properties&quot;: {&quot;order_gk&quot;: 189}, &quot;type&quot;: &quot;Feature&quot;}, {&quot;geometry&quot;: {&quot;coordinates&quot;: [[[-0.954222, 51.43907], [-0.960952, 51.437822], [-0.962117, 51.433319], [-0.956554, 51.430066], [-0.949826, 51.431314], [-0.94866, 51.435816], [-0.954222, 51.43907]]], &quot;type&quot;: &quot;Polygon&quot;}, &quot;id&quot;: &quot;88195d2845fffff&quot;, &quot;properties&quot;: {&quot;order_gk&quot;: 201}, &quot;type&quot;: &quot;Feature&quot;}, {&quot;geometry&quot;: {&quot;coordinates&quot;: [[[-0.966516, 51.441075], [-0.973246, 51.439826], [-0.974411, 51.435324], [-0.968847, 51.432071], [-0.962117, 51.433319], [-0.960952, 51.437822], [-0.966516, 51.441075]]], &quot;type&quot;: &quot;Polygon&quot;}, &quot;id&quot;: &quot;88195d2869fffff&quot;, &quot;properties&quot;: {&quot;order_gk&quot;: 249}, &quot;type&quot;: &quot;Feature&quot;}, {&quot;geometry&quot;: {&quot;coordinates&quot;: [[[-0.995514, 51.452837], [-1.002247, 51.451587], [-1.00341, 51.447084], [-0.997841, 51.443832], [-0.99111, 51.445082], [-0.989946, 51.449584], [-0.995514, 51.452837]]], &quot;type&quot;: &quot;Polygon&quot;}, &quot;id&quot;: &quot;88195d2b31fffff&quot;, &quot;properties&quot;: {&quot;order_gk&quot;: 288}, &quot;type&quot;: &quot;Feature&quot;}, {&quot;geometry&quot;: {&quot;coordinates&quot;: [[[-0.930531, 51.456313], [-0.937261, 51.455067], [-0.938429, 51.450567], [-0.932867, 51.447312], [-0.926137, 51.448559], [-0.924969, 51.453059], [-0.930531, 51.456313]]], &quot;type&quot;: &quot;Polygon&quot;}, &quot;id&quot;: &quot;88195d2a21fffff&quot;, &quot;properties&quot;: {&quot;order_gk&quot;: 311}, &quot;type&quot;: &quot;Feature&quot;}, {&quot;geometry&quot;: {&quot;coordinates&quot;: [[[-0.99992, 51.460591], [-1.006654, 51.459341], [-1.007817, 51.454838], [-1.002247, 51.451587], [-0.995514, 51.452837], [-0.994351, 51.457339], [-0.99992, 51.460591]]], &quot;type&quot;: &quot;Polygon&quot;}, &quot;id&quot;: &quot;88195d2b3dfffff&quot;, &quot;properties&quot;: {&quot;order_gk&quot;: 343}, &quot;type&quot;: &quot;Feature&quot;}, {&quot;geometry&quot;: {&quot;coordinates&quot;: [[[-0.970916, 51.44883], [-0.977647, 51.447581], [-0.978812, 51.443079], [-0.973246, 51.439826], [-0.966516, 51.441075], [-0.965351, 51.445577], [-0.970916, 51.44883]]], &quot;type&quot;: &quot;Polygon&quot;}, &quot;id&quot;: &quot;88195d2b17fffff&quot;, &quot;properties&quot;: {&quot;order_gk&quot;: 355}, &quot;type&quot;: &quot;Feature&quot;}, {&quot;geometry&quot;: {&quot;coordinates&quot;: [[[-0.974411, 51.435324], [-0.981141, 51.434074], [-0.982305, 51.429571], [-0.97674, 51.426318], [-0.970012, 51.427568], [-0.968847, 51.432071], [-0.974411, 51.435324]]], &quot;type&quot;: &quot;Polygon&quot;}, &quot;id&quot;: &quot;88195d2861fffff&quot;, &quot;properties&quot;: {&quot;order_gk&quot;: 361}, &quot;type&quot;: &quot;Feature&quot;}, {&quot;geometry&quot;: {&quot;coordinates&quot;: [[[-0.987618, 51.458588], [-0.994351, 51.457339], [-0.995514, 51.452837], [-0.989946, 51.449584], [-0.983214, 51.450834], [-0.98205, 51.455336], [-0.987618, 51.458588]]], &quot;type&quot;: &quot;Polygon&quot;}, &quot;id&quot;: &quot;88195d2b39fffff&quot;, &quot;properties&quot;: {&quot;order_gk&quot;: 381}, &quot;type&quot;: &quot;Feature&quot;}, {&quot;geometry&quot;: {&quot;coordinates&quot;: [[[-0.97972, 51.464339], [-0.986453, 51.46309], [-0.987618, 51.458588], [-0.98205, 51.455336], [-0.975317, 51.456585], [-0.974152, 51.461086], [-0.97972, 51.464339]]], &quot;type&quot;: &quot;Polygon&quot;}, &quot;id&quot;: &quot;88195d2b03fffff&quot;, &quot;properties&quot;: {&quot;order_gk&quot;: 520}, &quot;type&quot;: &quot;Feature&quot;}, {&quot;geometry&quot;: {&quot;coordinates&quot;: [[[-0.971821, 51.470088], [-0.978555, 51.46884], [-0.97972, 51.464339], [-0.974152, 51.461086], [-0.96742, 51.462334], [-0.966254, 51.466835], [-0.971821, 51.470088]]], &quot;type&quot;: &quot;Polygon&quot;}, &quot;id&quot;: &quot;88195d2b0bfffff&quot;, &quot;properties&quot;: {&quot;order_gk&quot;: 704}, &quot;type&quot;: &quot;Feature&quot;}, {&quot;geometry&quot;: {&quot;coordinates&quot;: [[[-0.942825, 51.458321], [-0.949556, 51.457075], [-0.950723, 51.452574], [-0.945159, 51.44932], [-0.938429, 51.450567], [-0.937261, 51.455067], [-0.942825, 51.458321]]], &quot;type&quot;: &quot;Polygon&quot;}, &quot;id&quot;: &quot;88195d2a25fffff&quot;, &quot;properties&quot;: {&quot;order_gk&quot;: 711}, &quot;type&quot;: &quot;Feature&quot;}, {&quot;geometry&quot;: {&quot;coordinates&quot;: [[[-0.938429, 51.450567], [-0.945159, 51.44932], [-0.946326, 51.444819], [-0.940764, 51.441565], [-0.934034, 51.442812], [-0.932867, 51.447312], [-0.938429, 51.450567]]], &quot;type&quot;: &quot;Polygon&quot;}, &quot;id&quot;: &quot;88195d2a27fffff&quot;, &quot;properties&quot;: {&quot;order_gk&quot;: 727}, &quot;type&quot;: &quot;Feature&quot;}, {&quot;geometry&quot;: {&quot;coordinates&quot;: [[[-0.95862, 51.446825], [-0.965351, 51.445577], [-0.966516, 51.441075], [-0.960952, 51.437822], [-0.954222, 51.43907], [-0.953056, 51.443571], [-0.95862, 51.446825]]], &quot;type&quot;: &quot;Polygon&quot;}, &quot;id&quot;: &quot;88195d2b13fffff&quot;, &quot;properties&quot;: {&quot;order_gk&quot;: 738}, &quot;type&quot;: &quot;Feature&quot;}, {&quot;geometry&quot;: {&quot;coordinates&quot;: [[[-0.946326, 51.444819], [-0.953056, 51.443571], [-0.954222, 51.43907], [-0.94866, 51.435816], [-0.941931, 51.437063], [-0.940764, 51.441565], [-0.946326, 51.444819]]], &quot;type&quot;: &quot;Polygon&quot;}, &quot;id&quot;: &quot;88195d284dfffff&quot;, &quot;properties&quot;: {&quot;order_gk&quot;: 1277}, &quot;type&quot;: &quot;Feature&quot;}, {&quot;geometry&quot;: {&quot;coordinates&quot;: [[[-0.955121, 51.460328], [-0.961853, 51.459081], [-0.963019, 51.45458], [-0.957454, 51.451326], [-0.950723, 51.452574], [-0.949556, 51.457075], [-0.955121, 51.460328]]], &quot;type&quot;: &quot;Polygon&quot;}, &quot;id&quot;: &quot;88195d2b19fffff&quot;, &quot;properties&quot;: {&quot;order_gk&quot;: 1343}, &quot;type&quot;: &quot;Feature&quot;}, {&quot;geometry&quot;: {&quot;coordinates&quot;: [[[-0.963019, 51.45458], [-0.969751, 51.453332], [-0.970916, 51.44883], [-0.965351, 51.445577], [-0.95862, 51.446825], [-0.957454, 51.451326], [-0.963019, 51.45458]]], &quot;type&quot;: &quot;Polygon&quot;}, &quot;id&quot;: &quot;88195d2b11fffff&quot;, &quot;properties&quot;: {&quot;order_gk&quot;: 1485}, &quot;type&quot;: &quot;Feature&quot;}, {&quot;geometry&quot;: {&quot;coordinates&quot;: [[[-0.950723, 51.452574], [-0.957454, 51.451326], [-0.95862, 51.446825], [-0.953056, 51.443571], [-0.946326, 51.444819], [-0.945159, 51.44932], [-0.950723, 51.452574]]], &quot;type&quot;: &quot;Polygon&quot;}, &quot;id&quot;: &quot;88195d2b1bfffff&quot;, &quot;properties&quot;: {&quot;order_gk&quot;: 1800}, &quot;type&quot;: &quot;Feature&quot;}, {&quot;geometry&quot;: {&quot;coordinates&quot;: [[[-0.975317, 51.456585], [-0.98205, 51.455336], [-0.983214, 51.450834], [-0.977647, 51.447581], [-0.970916, 51.44883], [-0.969751, 51.453332], [-0.975317, 51.456585]]], &quot;type&quot;: &quot;Polygon&quot;}, &quot;id&quot;: &quot;88195d2b15fffff&quot;, &quot;properties&quot;: {&quot;order_gk&quot;: 1803}, &quot;type&quot;: &quot;Feature&quot;}, {&quot;geometry&quot;: {&quot;coordinates&quot;: [[[-0.96742, 51.462334], [-0.974152, 51.461086], [-0.975317, 51.456585], [-0.969751, 51.453332], [-0.963019, 51.45458], [-0.961853, 51.459081], [-0.96742, 51.462334]]], &quot;type&quot;: &quot;Polygon&quot;}, &quot;id&quot;: &quot;88195d2b1dfffff&quot;, &quot;properties&quot;: {&quot;order_gk&quot;: 3682}, &quot;type&quot;: &quot;Feature&quot;}], &quot;type&quot;: &quot;FeatureCollection&quot;});\n",
       "\n",
       "        \n",
       "&lt;/script&gt;\" style=\"position:absolute;width:100%;height:100%;left:0;top:0;border:none !important;\" allowfullscreen webkitallowfullscreen mozallowfullscreen></iframe></div></div>"
      ],
      "text/plain": [
       "<folium.folium.Map at 0x1f0cf152020>"
      ]
     },
     "execution_count": 30,
     "metadata": {},
     "output_type": "execute_result"
    }
   ],
   "source": [
    "map"
   ]
  }
 ],
 "metadata": {
  "kernelspec": {
   "display_name": "Python 3 (ipykernel)",
   "language": "python",
   "name": "python3"
  },
  "language_info": {
   "codemirror_mode": {
    "name": "ipython",
    "version": 3
   },
   "file_extension": ".py",
   "mimetype": "text/x-python",
   "name": "python",
   "nbconvert_exporter": "python",
   "pygments_lexer": "ipython3",
   "version": "3.10.2"
  }
 },
 "nbformat": 4,
 "nbformat_minor": 5
}
